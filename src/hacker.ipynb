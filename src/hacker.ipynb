{
 "cells": [
  {
   "attachments": {},
   "cell_type": "markdown",
   "metadata": {},
   "source": [
    "Hacker.ipynb\n",
    "============\n",
    "\n",
    "This notebook attempts to use my langchain alternatives to hack a target device. The goal of the notebook is to either show the agent working, or to shine a light on what aspects need to be improved. The notebook should be continuously updated to use the latest improvemenets in the agent.\n"
   ]
  },
  {
   "cell_type": "code",
   "execution_count": 1,
   "metadata": {},
   "outputs": [],
   "source": [
    "import os\n",
    "import sys\n",
    "import time\n",
    "\n",
    "from openai import OpenAI\n",
    "from dotenv import load_dotenv\n",
    "\n",
    "from agent import Agent\n",
    "from tasker import TaskManager\n",
    "from entityDB import EntityDatabase\n",
    "from shelltool import ExecutionSandbox\n",
    "\n",
    "load_dotenv()\n",
    "client = OpenAI(api_key=(os.getenv(\"OPENAI_API_KEY\")))"
   ]
  },
  {
   "cell_type": "code",
   "execution_count": 2,
   "metadata": {},
   "outputs": [
    {
     "name": "stderr",
     "output_type": "stream",
     "text": [
      "Error: no container with name or ID \"rat-machine-sandbox\" found: no such container\n",
      "Error: no container with ID or name \"rat-machine-sandbox\" found: no such container\n"
     ]
    }
   ],
   "source": [
    "# Just ensure that things are properly killed\n",
    "os.system(\"podman kill rat-machine-sandbox\")\n",
    "os.system(\"podman rm rat-machine-sandbox\")\n",
    "time.sleep(1)"
   ]
  },
  {
   "cell_type": "code",
   "execution_count": 3,
   "metadata": {},
   "outputs": [],
   "source": [
    "task_manager = TaskManager(client)\n",
    "database = EntityDatabase(client, \"gpt-3.5-turbo\")\n",
    "agent = Agent(client, tools=[ExecutionSandbox()], verbose=False)"
   ]
  },
  {
   "cell_type": "code",
   "execution_count": 4,
   "metadata": {},
   "outputs": [
    {
     "name": "stdout",
     "output_type": "stream",
     "text": [
      "--------------context---------------\n",
      "\n",
      "------------------------------------\n",
      "--------------context---------------\n",
      "Context: \n",
      "Task: Use `ip a` to find me your ip address and the local IP range.\n",
      "------------------------------------\n"
     ]
    },
    {
     "ename": "AttributeError",
     "evalue": "'OpenAI' object has no attribute 'ChatCompletion'",
     "output_type": "error",
     "traceback": [
      "\u001b[0;31m---------------------------------------------------------------------------\u001b[0m",
      "\u001b[0;31mAttributeError\u001b[0m                            Traceback (most recent call last)",
      "Cell \u001b[0;32mIn[4], line 25\u001b[0m\n\u001b[1;32m     21\u001b[0m \u001b[39mprint\u001b[39m(\u001b[39m\"\u001b[39m\u001b[39m------------------------------------\u001b[39m\u001b[39m\"\u001b[39m)\n\u001b[1;32m     24\u001b[0m output \u001b[39m=\u001b[39m agent\u001b[39m.\u001b[39mrun(task, context\u001b[39m=\u001b[39mcontext)\n\u001b[0;32m---> 25\u001b[0m database\u001b[39m.\u001b[39;49mupdate(output)\n\u001b[1;32m     26\u001b[0m task_manager\u001b[39m.\u001b[39mmark_next_completed()\n\u001b[1;32m     28\u001b[0m \u001b[39mprint\u001b[39m(\u001b[39m\"\u001b[39m\u001b[39m--------------output----------------\u001b[39m\u001b[39m\"\u001b[39m)\n",
      "File \u001b[0;32m~/Music/The-Autonomous-R.A.T.-Machine.git/openai-migrate/src/entityDB.py:21\u001b[0m, in \u001b[0;36mEntityDatabase.update\u001b[0;34m(self, message)\u001b[0m\n\u001b[1;32m     19\u001b[0m message_without_example \u001b[39m=\u001b[39m \u001b[39m\"\u001b[39m\u001b[39m\"\u001b[39m\n\u001b[1;32m     20\u001b[0m message \u001b[39m=\u001b[39m message_with_example\u001b[39m.\u001b[39mformat(database\u001b[39m=\u001b[39m\u001b[39mself\u001b[39m\u001b[39m.\u001b[39mdatabase, message\u001b[39m=\u001b[39mmessage)\n\u001b[0;32m---> 21\u001b[0m output \u001b[39m=\u001b[39m \u001b[39mself\u001b[39;49m\u001b[39m.\u001b[39;49mclient\u001b[39m.\u001b[39;49mChatCompletion\u001b[39m.\u001b[39mcreate(\n\u001b[1;32m     22\u001b[0m         model\u001b[39m=\u001b[39m\u001b[39mself\u001b[39m\u001b[39m.\u001b[39mmodel,\n\u001b[1;32m     23\u001b[0m         messages \u001b[39m=\u001b[39m [{\u001b[39m\"\u001b[39m\u001b[39mrole\u001b[39m\u001b[39m\"\u001b[39m: \u001b[39m\"\u001b[39m\u001b[39muser\u001b[39m\u001b[39m\"\u001b[39m, \u001b[39m\"\u001b[39m\u001b[39mcontent\u001b[39m\u001b[39m\"\u001b[39m: message}]\n\u001b[1;32m     24\u001b[0m         )\n\u001b[1;32m     26\u001b[0m \u001b[39m# maybe make some sort of error checker first\u001b[39;00m\n\u001b[1;32m     27\u001b[0m \u001b[39mself\u001b[39m\u001b[39m.\u001b[39mdatabase \u001b[39m=\u001b[39m output[\u001b[39m\"\u001b[39m\u001b[39mchoices\u001b[39m\u001b[39m\"\u001b[39m][\u001b[39m0\u001b[39m][\u001b[39m\"\u001b[39m\u001b[39mmessage\u001b[39m\u001b[39m\"\u001b[39m]\u001b[39m.\u001b[39mget(\u001b[39m\"\u001b[39m\u001b[39mcontent\u001b[39m\u001b[39m\"\u001b[39m)\n",
      "\u001b[0;31mAttributeError\u001b[0m: 'OpenAI' object has no attribute 'ChatCompletion'"
     ]
    }
   ],
   "source": [
    "while True:\n",
    "    task = task_manager.get_next()\n",
    "\n",
    "    # ran out of tasks\n",
    "    if task == \"\":\n",
    "        break\n",
    "        \n",
    "    \n",
    "    print(\"--------------context---------------\")\n",
    "    print(database.database)\n",
    "    print(\"------------------------------------\")\n",
    "        \n",
    "    context = \"\"\n",
    "    if database.database != \"\":\n",
    "        context = database.get_context(task)\n",
    "\n",
    "\n",
    "    print(\"--------------context---------------\")\n",
    "    print(f\"Context: {context}\")\n",
    "    print(f\"Task: {task}\")\n",
    "    print(\"------------------------------------\")\n",
    "\n",
    "    \n",
    "    output = agent.run(task, context=context)\n",
    "    database.update(output)\n",
    "    task_manager.mark_next_completed()\n",
    "\n",
    "    print(\"--------------output----------------\")\n",
    "    print(output)\n",
    "    print(\"------------------------------------\\n\\n\")\n",
    "    print(context)"
   ]
  }
 ],
 "metadata": {
  "kernelspec": {
   "display_name": ".venv",
   "language": "python",
   "name": "python3"
  },
  "language_info": {
   "codemirror_mode": {
    "name": "ipython",
    "version": 3
   },
   "file_extension": ".py",
   "mimetype": "text/x-python",
   "name": "python",
   "nbconvert_exporter": "python",
   "pygments_lexer": "ipython3",
   "version": "3.11.6"
  },
  "orig_nbformat": 4
 },
 "nbformat": 4,
 "nbformat_minor": 2
}
