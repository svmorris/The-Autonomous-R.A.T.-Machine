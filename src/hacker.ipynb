{
 "cells": [
  {
   "attachments": {},
   "cell_type": "markdown",
   "metadata": {},
   "source": [
    "Hacker.ipynb\n",
    "============\n",
    "\n",
    "This notebook attempts to use my langchain alternatives to hack a target device. The goal of the notebook is to either show the agent working, or to shine a light on what aspects need to be improved. The notebook should be continuously updated to use the latest improvemenets in the agent.\n"
   ]
  },
  {
   "cell_type": "code",
   "execution_count": 9,
   "metadata": {},
   "outputs": [],
   "source": [
    "import os\n",
    "import sys\n",
    "import time\n",
    "import openai\n",
    "\n",
    "from dotenv import load_dotenv\n",
    "\n",
    "from agent import Agent\n",
    "from tasker import TaskManager\n",
    "from entityDB import EntityDatabase\n",
    "from shelltool import ExecutionSandbox\n",
    "\n",
    "load_dotenv()\n",
    "openai.organization = os.getenv(\"OPENAI_ORGANIZATION\")\n",
    "openai.api_key = os.getenv(\"OPENAI_API_KEY\")"
   ]
  },
  {
   "cell_type": "code",
   "execution_count": 10,
   "metadata": {},
   "outputs": [
    {
     "name": "stderr",
     "output_type": "stream",
     "text": [
      "Error: no container with name or ID \"rat-machine-sandbox\" found: no such container\n",
      "Error: no container with ID or name \"rat-machine-sandbox\" found: no such container\n"
     ]
    }
   ],
   "source": [
    "# Just ensure that things are properly killed\n",
    "os.system(\"podman kill rat-machine-sandbox\")\n",
    "os.system(\"podman rm rat-machine-sandbox\")\n",
    "time.sleep(1)"
   ]
  },
  {
   "cell_type": "code",
   "execution_count": 11,
   "metadata": {},
   "outputs": [],
   "source": [
    "task_manager = TaskManager(openai)\n",
    "database = EntityDatabase(openai, \"gpt-3.5-turbo\")\n",
    "agent = Agent(tools=[ExecutionSandbox()], verbose=False)"
   ]
  },
  {
   "cell_type": "code",
   "execution_count": 12,
   "metadata": {},
   "outputs": [
    {
     "name": "stdout",
     "output_type": "stream",
     "text": [
      "--------------context---------------\n",
      "\n",
      "------------------------------------\n",
      "--------------context---------------\n",
      "Context: \n",
      "Task: Use `ip a` to find me your ip address and the local IP range.\n",
      "------------------------------------\n"
     ]
    },
    {
     "ename": "APIRemovedInV1",
     "evalue": "\n\nYou tried to access openai.ChatCompletion, but this is no longer supported in openai>=1.0.0 - see the README at https://github.com/openai/openai-python for the API.\n\nYou can run `openai migrate` to automatically upgrade your codebase to use the 1.0.0 interface. \n\nAlternatively, you can pin your installation to the old version, e.g. `pip install openai==0.28`\n\nA detailed migration guide is available here: https://github.com/openai/openai-python/discussions/742\n",
     "output_type": "error",
     "traceback": [
      "\u001b[0;31m---------------------------------------------------------------------------\u001b[0m",
      "\u001b[0;31mAPIRemovedInV1\u001b[0m                            Traceback (most recent call last)",
      "Cell \u001b[0;32mIn[12], line 24\u001b[0m\n\u001b[1;32m     20\u001b[0m \u001b[39mprint\u001b[39m(\u001b[39mf\u001b[39m\u001b[39m\"\u001b[39m\u001b[39mTask: \u001b[39m\u001b[39m{\u001b[39;00mtask\u001b[39m}\u001b[39;00m\u001b[39m\"\u001b[39m)\n\u001b[1;32m     21\u001b[0m \u001b[39mprint\u001b[39m(\u001b[39m\"\u001b[39m\u001b[39m------------------------------------\u001b[39m\u001b[39m\"\u001b[39m)\n\u001b[0;32m---> 24\u001b[0m output \u001b[39m=\u001b[39m agent\u001b[39m.\u001b[39;49mrun(task, context\u001b[39m=\u001b[39;49mcontext)\n\u001b[1;32m     25\u001b[0m database\u001b[39m.\u001b[39mupdate(output)\n\u001b[1;32m     26\u001b[0m task_manager\u001b[39m.\u001b[39mmark_next_completed()\n",
      "File \u001b[0;32m~/Music/The-Autonomous-R.A.T.-Machine.git/repo-cleanup/research/reinvent-the-wheel/agent.py:282\u001b[0m, in \u001b[0;36mAgent.run\u001b[0;34m(self, task, context, return_full)\u001b[0m\n\u001b[1;32m    278\u001b[0m scratchpad \u001b[39m=\u001b[39m ScratchPad(prompt)\n\u001b[1;32m    280\u001b[0m \u001b[39mwhile\u001b[39;00m \u001b[39mTrue\u001b[39;00m:\n\u001b[1;32m    281\u001b[0m     \u001b[39m# Get LLM completion one token at a time.\u001b[39;00m\n\u001b[0;32m--> 282\u001b[0m     \u001b[39mfor\u001b[39;00m chunk \u001b[39min\u001b[39;00m openai\u001b[39m.\u001b[39;49mChatCompletion\u001b[39m.\u001b[39;49mcreate(\n\u001b[1;32m    283\u001b[0m         model\u001b[39m=\u001b[39;49m\u001b[39m\"\u001b[39;49m\u001b[39mgpt-4\u001b[39;49m\u001b[39m\"\u001b[39;49m,\n\u001b[1;32m    284\u001b[0m         messages\u001b[39m=\u001b[39;49m[{\u001b[39m\"\u001b[39;49m\u001b[39mrole\u001b[39;49m\u001b[39m\"\u001b[39;49m: \u001b[39m\"\u001b[39;49m\u001b[39muser\u001b[39;49m\u001b[39m\"\u001b[39;49m, \u001b[39m\"\u001b[39;49m\u001b[39mcontent\u001b[39;49m\u001b[39m\"\u001b[39;49m: scratchpad\u001b[39m.\u001b[39;49mcontext}],\n\u001b[1;32m    285\u001b[0m         stream\u001b[39m=\u001b[39;49m\u001b[39mTrue\u001b[39;49;00m,\n\u001b[1;32m    286\u001b[0m     ):\n\u001b[1;32m    287\u001b[0m         \u001b[39mif\u001b[39;00m chunk[\u001b[39m'\u001b[39m\u001b[39mchoices\u001b[39m\u001b[39m'\u001b[39m][\u001b[39m0\u001b[39m][\u001b[39m\"\u001b[39m\u001b[39mfinish_reason\u001b[39m\u001b[39m\"\u001b[39m] \u001b[39m==\u001b[39m \u001b[39m\"\u001b[39m\u001b[39mstop\u001b[39m\u001b[39m\"\u001b[39m:\n\u001b[1;32m    288\u001b[0m             \u001b[39mif\u001b[39;00m scratchpad\u001b[39m.\u001b[39mfinished \u001b[39m!=\u001b[39m \u001b[39mTrue\u001b[39;00m:\n\u001b[1;32m    289\u001b[0m                 \u001b[39m# LLM automatically found that it should stop after the action input\u001b[39;00m\n",
      "File \u001b[0;32m~/Music/The-Autonomous-R.A.T.-Machine.git/repo-cleanup/research/reinvent-the-wheel/.venv/lib/python3.11/site-packages/openai/lib/_old_api.py:39\u001b[0m, in \u001b[0;36mAPIRemovedInV1Proxy.__call__\u001b[0;34m(self, *_args, **_kwargs)\u001b[0m\n\u001b[1;32m     38\u001b[0m \u001b[39mdef\u001b[39;00m \u001b[39m__call__\u001b[39m(\u001b[39mself\u001b[39m, \u001b[39m*\u001b[39m_args: Any, \u001b[39m*\u001b[39m\u001b[39m*\u001b[39m_kwargs: Any) \u001b[39m-\u001b[39m\u001b[39m>\u001b[39m Any:\n\u001b[0;32m---> 39\u001b[0m     \u001b[39mraise\u001b[39;00m APIRemovedInV1(symbol\u001b[39m=\u001b[39m\u001b[39mself\u001b[39m\u001b[39m.\u001b[39m_symbol)\n",
      "\u001b[0;31mAPIRemovedInV1\u001b[0m: \n\nYou tried to access openai.ChatCompletion, but this is no longer supported in openai>=1.0.0 - see the README at https://github.com/openai/openai-python for the API.\n\nYou can run `openai migrate` to automatically upgrade your codebase to use the 1.0.0 interface. \n\nAlternatively, you can pin your installation to the old version, e.g. `pip install openai==0.28`\n\nA detailed migration guide is available here: https://github.com/openai/openai-python/discussions/742\n"
     ]
    }
   ],
   "source": [
    "while True:\n",
    "    task = task_manager.get_next()\n",
    "\n",
    "    # ran out of tasks\n",
    "    if task == \"\":\n",
    "        break\n",
    "        \n",
    "    \n",
    "    print(\"--------------context---------------\")\n",
    "    print(database.database)\n",
    "    print(\"------------------------------------\")\n",
    "        \n",
    "    context = \"\"\n",
    "    if database.database != \"\":\n",
    "        context = database.get_context(task)\n",
    "\n",
    "\n",
    "    print(\"--------------context---------------\")\n",
    "    print(f\"Context: {context}\")\n",
    "    print(f\"Task: {task}\")\n",
    "    print(\"------------------------------------\")\n",
    "\n",
    "    \n",
    "    output = agent.run(task, context=context)\n",
    "    database.update(output)\n",
    "    task_manager.mark_next_completed()\n",
    "\n",
    "    print(\"--------------output----------------\")\n",
    "    print(output)\n",
    "    print(\"------------------------------------\\n\\n\")\n",
    "    print(context)"
   ]
  }
 ],
 "metadata": {
  "kernelspec": {
   "display_name": ".venv",
   "language": "python",
   "name": "python3"
  },
  "language_info": {
   "codemirror_mode": {
    "name": "ipython",
    "version": 3
   },
   "file_extension": ".py",
   "mimetype": "text/x-python",
   "name": "python",
   "nbconvert_exporter": "python",
   "pygments_lexer": "ipython3",
   "version": "3.11.6"
  },
  "orig_nbformat": 4
 },
 "nbformat": 4,
 "nbformat_minor": 2
}
