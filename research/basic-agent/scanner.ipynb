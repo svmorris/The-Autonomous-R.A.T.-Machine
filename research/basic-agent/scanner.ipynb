{
 "cells": [
  {
   "attachments": {},
   "cell_type": "markdown",
   "metadata": {},
   "source": [
    "Basic scanner\n",
    "===============\n",
    "<hr>\n",
    "\n",
    "The goal of this file is to learn how to make a basic agent using langchain and gpt. \n",
    "\n",
    "The agents goal is simple:\n",
    "- discover all hosts on the network\n",
    "- discover all open ports\n",
    "- make a guess about what the device could be"
   ]
  },
  {
   "cell_type": "code",
   "execution_count": 1,
   "metadata": {},
   "outputs": [],
   "source": [
    "import os\n",
    "import openai\n",
    "from dotenv import load_dotenv\n",
    "from langchain.tools import ShellTool\n",
    "from langchain.python import PythonREPL\n",
    "from langchain.llms.openai import OpenAI\n",
    "from langchain.chat_models import ChatOpenAI\n",
    "from langchain.agents.agent_types import AgentType\n",
    "from langchain.tools.python.tool import PythonREPLTool\n",
    "from langchain.agents.agent_toolkits import create_python_agent"
   ]
  },
  {
   "cell_type": "code",
   "execution_count": 2,
   "metadata": {},
   "outputs": [],
   "source": [
    "load_dotenv()\n",
    "openai.organization = os.getenv(\"OPENAI_ORGANIZATION\")\n",
    "openai.api_key = os.getenv(\"OPENAI_API_KEY\")"
   ]
  },
  {
   "attachments": {},
   "cell_type": "markdown",
   "metadata": {},
   "source": [
    "Creating 2 different agents, one for running shell code and one for running python code.\n",
    "\n",
    "While agents are supposed to be able to have multiple tools enabled at once, this method makes the actions of the agent a little bit more predictable. I find it works better when you already know what needs to be done."
   ]
  },
  {
   "cell_type": "code",
   "execution_count": 3,
   "metadata": {},
   "outputs": [],
   "source": [
    "shell_agent = create_python_agent(\n",
    "    llm=OpenAI(temperature=0, max_tokens=1000),\n",
    "    tool=ShellTool(),\n",
    "    verbose=True,\n",
    "    agent_type=AgentType.ZERO_SHOT_REACT_DESCRIPTION,\n",
    "    max_execution_time=100,\n",
    ")\n",
    "python_agent = create_python_agent(\n",
    "    llm=OpenAI(temperature=0, max_tokens=1000),\n",
    "    tool=PythonREPLTool(),\n",
    "    verbose=True,\n",
    "    agent_type=AgentType.ZERO_SHOT_REACT_DESCRIPTION,\n",
    "    max_execution_time=100,\n",
    ")"
   ]
  },
  {
   "cell_type": "code",
   "execution_count": 4,
   "metadata": {},
   "outputs": [
    {
     "name": "stdout",
     "output_type": "stream",
     "text": [
      "\n",
      "\n",
      "\u001b[1m> Entering new AgentExecutor chain...\u001b[0m\n",
      "\u001b[32;1m\u001b[1;3m I need to run a command to list all devices\n",
      "Action: terminal\n",
      "Action Input: nmap -sP 192.168.1.0/24\u001b[0m"
     ]
    },
    {
     "name": "stderr",
     "output_type": "stream",
     "text": [
      "/home/antone/Documents/uni-notes.git/final-year-project/research/basic-agent/.venv/lib/python3.11/site-packages/langchain/tools/shell/tool.py:32: UserWarning: The shell tool has no safeguards by default. Use at your own risk.\n",
      "  warnings.warn(\n"
     ]
    },
    {
     "name": "stdout",
     "output_type": "stream",
     "text": [
      "\n",
      "Observation: \u001b[36;1m\u001b[1;3mStarting Nmap 7.94 ( https://nmap.org ) at 2023-09-27 12:04 BST\n",
      "Nmap scan report for 192.168.1.1\n",
      "Host is up (0.00047s latency).\n",
      "Nmap scan report for 192.168.1.114\n",
      "Host is up (0.0053s latency).\n",
      "Nmap scan report for 192.168.1.121\n",
      "Host is up (0.0027s latency).\n",
      "Nmap scan report for 192.168.1.146\n",
      "Host is up (0.067s latency).\n",
      "Nmap scan report for 192.168.1.179\n",
      "Host is up (0.00013s latency).\n",
      "Nmap scan report for 192.168.1.181\n",
      "Host is up (0.042s latency).\n",
      "Nmap scan report for 192.168.1.182\n",
      "Host is up (0.043s latency).\n",
      "Nmap done: 256 IP addresses (7 hosts up) scanned in 3.76 seconds\n",
      "\u001b[0m\n",
      "Thought:\u001b[32;1m\u001b[1;3m I now know the list of devices on my network\n",
      "Final Answer: 192.168.1.1, 192.168.1.114, 192.168.1.121, 192.168.1.146, 192.168.1.179, 192.168.1.181, 192.168.1.182\u001b[0m\n",
      "\n",
      "\u001b[1m> Finished chain.\u001b[0m\n"
     ]
    }
   ],
   "source": [
    "output = shell_agent(\"List all devices on my network\")"
   ]
  },
  {
   "attachments": {},
   "cell_type": "markdown",
   "metadata": {},
   "source": [
    "Generative AI always gives you a different response, its best to format it with generative AI instead of structured code."
   ]
  },
  {
   "cell_type": "code",
   "execution_count": 5,
   "metadata": {},
   "outputs": [
    {
     "name": "stdout",
     "output_type": "stream",
     "text": [
      "\n",
      "\n",
      "\u001b[1m> Entering new AgentExecutor chain...\u001b[0m\n"
     ]
    },
    {
     "name": "stderr",
     "output_type": "stream",
     "text": [
      "Python REPL can execute arbitrary code. Use with caution.\n"
     ]
    },
    {
     "name": "stdout",
     "output_type": "stream",
     "text": [
      "\u001b[32;1m\u001b[1;3m I need to split the string into individual IP addresses\n",
      "Action: Python_REPL\n",
      "Action Input: ip_addresses = \"192.168.1.1, 192.168.1.114, 192.168.1.121, 192.168.1.146, 192.168.1.179, 192.168.1.181, 192.168.1.182\".split(', ')\u001b[0m\n",
      "Observation: \u001b[36;1m\u001b[1;3m\u001b[0m\n",
      "Thought:\u001b[32;1m\u001b[1;3m I need to put the IP addresses into a list\n",
      "Action: Python_REPL\n",
      "Action Input: ip_list = [ip.strip() for ip in ip_addresses]\u001b[0m\n",
      "Observation: \u001b[36;1m\u001b[1;3m\u001b[0m\n",
      "Thought:\u001b[32;1m\u001b[1;3m I now know the final answer\n",
      "Final Answer: ['192.168.1.1', '192.168.1.114', '192.168.1.121', '192.168.1.146', '192.168.1.179', '192.168.1.181', '192.168.1.182']\u001b[0m\n",
      "\n",
      "\u001b[1m> Finished chain.\u001b[0m\n"
     ]
    }
   ],
   "source": [
    "ips_list = python_agent(f\"Get all the IP addresses from this string as a python list: \\\"{output['output']}\\\"\")"
   ]
  },
  {
   "cell_type": "code",
   "execution_count": 6,
   "metadata": {},
   "outputs": [
    {
     "name": "stdout",
     "output_type": "stream",
     "text": [
      "['192.168.1.1', '192.168.1.114', '192.168.1.121', '192.168.1.146', '192.168.1.179', '192.168.1.181', '192.168.1.182']\n"
     ]
    }
   ],
   "source": [
    "import ast\n",
    "devices = ast.literal_eval(ips_list['output'])\n",
    "print(devices)"
   ]
  },
  {
   "attachments": {},
   "cell_type": "markdown",
   "metadata": {},
   "source": [
    "For each found device, we run a simple port scan to find out what ports and services are open."
   ]
  },
  {
   "cell_type": "code",
   "execution_count": 7,
   "metadata": {},
   "outputs": [
    {
     "name": "stdout",
     "output_type": "stream",
     "text": [
      "\n",
      "\n",
      "\u001b[1m> Entering new AgentExecutor chain...\u001b[0m\n",
      "\u001b[32;1m\u001b[1;3m I need to use a terminal command to list all the ports and services\n",
      "Action: terminal\n",
      "Action Input: nmap 192.168.1.1\u001b[0m\n",
      "Observation: \u001b[36;1m\u001b[1;3mStarting Nmap 7.94 ( https://nmap.org ) at 2023-09-27 12:04 BST\n",
      "Nmap scan report for 192.168.1.1\n",
      "Host is up (0.012s latency).\n",
      "Not shown: 995 closed tcp ports (conn-refused)\n",
      "PORT      STATE SERVICE\n",
      "80/tcp    open  http\n",
      "5500/tcp  open  hotline\n",
      "8180/tcp  open  unknown\n",
      "9000/tcp  open  cslistener\n",
      "10004/tcp open  emcrmirccd\n",
      "\n",
      "Nmap done: 1 IP address (1 host up) scanned in 0.23 seconds\n",
      "\u001b[0m\n",
      "Thought:\u001b[32;1m\u001b[1;3m I now know the ports and services for this address\n",
      "Final Answer: The ports and services for 192.168.1.1 are 80/tcp (http), 5500/tcp (hotline), 8180/tcp (unknown), 9000/tcp (cslistener), and 10004/tcp (emcrmirccd).\u001b[0m\n",
      "\n",
      "\u001b[1m> Finished chain.\u001b[0m\n",
      "\n",
      "\n",
      "\u001b[1m> Entering new AgentExecutor chain...\u001b[0m\n",
      "\u001b[32;1m\u001b[1;3m I need to use a terminal command to list all the ports and services\n",
      "Action: terminal\n",
      "Action Input: nmap 192.168.1.114\u001b[0m\n",
      "Observation: \u001b[36;1m\u001b[1;3mStarting Nmap 7.94 ( https://nmap.org ) at 2023-09-27 12:04 BST\n",
      "Nmap scan report for 192.168.1.114\n",
      "Host is up (0.050s latency).\n",
      "Not shown: 993 closed tcp ports (conn-refused)\n",
      "PORT      STATE SERVICE\n",
      "53/tcp    open  domain\n",
      "5000/tcp  open  upnp\n",
      "7000/tcp  open  afs3-fileserver\n",
      "7100/tcp  open  font-service\n",
      "49152/tcp open  unknown\n",
      "49163/tcp open  unknown\n",
      "62078/tcp open  iphone-sync\n",
      "\n",
      "Nmap done: 1 IP address (1 host up) scanned in 5.43 seconds\n",
      "\u001b[0m\n",
      "Thought:\u001b[32;1m\u001b[1;3m I now know the final answer\n",
      "Final Answer: 53/tcp (domain), 5000/tcp (upnp), 7000/tcp (afs3-fileserver), 7100/tcp (font-service), 49152/tcp (unknown), 49163/tcp (unknown), 62078/tcp (iphone-sync)\u001b[0m\n",
      "\n",
      "\u001b[1m> Finished chain.\u001b[0m\n",
      "\n",
      "\n",
      "\u001b[1m> Entering new AgentExecutor chain...\u001b[0m\n",
      "\u001b[32;1m\u001b[1;3m I need to use a terminal command to list all the ports and services\n",
      "Action: terminal\n",
      "Action Input: nmap 192.168.1.121\u001b[0m\n",
      "Observation: \u001b[36;1m\u001b[1;3mStarting Nmap 7.94 ( https://nmap.org ) at 2023-09-27 12:04 BST\n",
      "Nmap scan report for 192.168.1.121\n",
      "Host is up (0.027s latency).\n",
      "Not shown: 997 closed tcp ports (conn-refused)\n",
      "PORT      STATE SERVICE\n",
      "49152/tcp open  unknown\n",
      "49157/tcp open  unknown\n",
      "62078/tcp open  iphone-sync\n",
      "\n",
      "Nmap done: 1 IP address (1 host up) scanned in 0.49 seconds\n",
      "\u001b[0m\n",
      "Thought:\u001b[32;1m\u001b[1;3m I now know the ports and services\n",
      "Final Answer: 49152/tcp open unknown, 49157/tcp open unknown, 62078/tcp open iphone-sync\u001b[0m\n",
      "\n",
      "\u001b[1m> Finished chain.\u001b[0m\n",
      "\n",
      "\n",
      "\u001b[1m> Entering new AgentExecutor chain...\u001b[0m\n",
      "\u001b[32;1m\u001b[1;3m I need to use a terminal command to list all the ports and services\n",
      "Action: terminal\n",
      "Action Input: nmap 192.168.1.146\u001b[0m\n",
      "Observation: \u001b[36;1m\u001b[1;3mStarting Nmap 7.94 ( https://nmap.org ) at 2023-09-27 12:04 BST\n",
      "Nmap scan report for 192.168.1.146\n",
      "Host is up (0.0026s latency).\n",
      "All 1000 scanned ports on 192.168.1.146 are in ignored states.\n",
      "Not shown: 1000 closed tcp ports (conn-refused)\n",
      "\n",
      "Nmap done: 1 IP address (1 host up) scanned in 0.34 seconds\n",
      "\u001b[0m\n",
      "Thought:\u001b[32;1m\u001b[1;3m I now know the final answer\n",
      "Final Answer: All 1000 scanned ports on 192.168.1.146 are in ignored states.\u001b[0m\n",
      "\n",
      "\u001b[1m> Finished chain.\u001b[0m\n",
      "\n",
      "\n",
      "\u001b[1m> Entering new AgentExecutor chain...\u001b[0m\n",
      "\u001b[32;1m\u001b[1;3m I need to use a terminal command to list all the ports and services\n",
      "Action: terminal\n",
      "Action Input: nmap 192.168.1.179\u001b[0m\n",
      "Observation: \u001b[36;1m\u001b[1;3mStarting Nmap 7.94 ( https://nmap.org ) at 2023-09-27 12:04 BST\n",
      "Nmap scan report for 192.168.1.179\n",
      "Host is up (0.000089s latency).\n",
      "All 1000 scanned ports on 192.168.1.179 are in ignored states.\n",
      "Not shown: 1000 closed tcp ports (conn-refused)\n",
      "\n",
      "Nmap done: 1 IP address (1 host up) scanned in 0.08 seconds\n",
      "\u001b[0m\n",
      "Thought:\u001b[32;1m\u001b[1;3m I now know the final answer\n",
      "Final Answer: No open ports or services were found on 192.168.1.179.\u001b[0m\n",
      "\n",
      "\u001b[1m> Finished chain.\u001b[0m\n",
      "\n",
      "\n",
      "\u001b[1m> Entering new AgentExecutor chain...\u001b[0m\n",
      "\u001b[32;1m\u001b[1;3m I need to use a terminal command to list all the ports and services\n",
      "Action: terminal\n",
      "Action Input: nmap 192.168.1.181\u001b[0m\n",
      "Observation: \u001b[36;1m\u001b[1;3mStarting Nmap 7.94 ( https://nmap.org ) at 2023-09-27 12:04 BST\n",
      "Nmap scan report for 192.168.1.181\n",
      "Host is up (0.020s latency).\n",
      "Not shown: 998 closed tcp ports (conn-refused)\n",
      "PORT      STATE SERVICE\n",
      "49152/tcp open  unknown\n",
      "62078/tcp open  iphone-sync\n",
      "\n",
      "Nmap done: 1 IP address (1 host up) scanned in 0.49 seconds\n",
      "\u001b[0m\n",
      "Thought:\u001b[32;1m\u001b[1;3m I now know the final answer\n",
      "Final Answer: 49152/tcp open unknown, 62078/tcp open iphone-sync\u001b[0m\n",
      "\n",
      "\u001b[1m> Finished chain.\u001b[0m\n",
      "\n",
      "\n",
      "\u001b[1m> Entering new AgentExecutor chain...\u001b[0m\n",
      "\u001b[32;1m\u001b[1;3m I need to use a terminal command to list all the ports and services\n",
      "Action: terminal\n",
      "Action Input: nmap 192.168.1.182\u001b[0m\n",
      "Observation: \u001b[36;1m\u001b[1;3mStarting Nmap 7.94 ( https://nmap.org ) at 2023-09-27 12:04 BST\n",
      "Nmap scan report for 192.168.1.182\n",
      "Host is up (0.0093s latency).\n",
      "Not shown: 998 closed tcp ports (conn-refused)\n",
      "PORT      STATE SERVICE\n",
      "49153/tcp open  unknown\n",
      "62078/tcp open  iphone-sync\n",
      "\n",
      "Nmap done: 1 IP address (1 host up) scanned in 3.72 seconds\n",
      "\u001b[0m\n",
      "Thought:\u001b[32;1m\u001b[1;3m I now know the ports and services\n",
      "Final Answer: 49153/tcp open unknown, 62078/tcp open iphone-sync\u001b[0m\n",
      "\n",
      "\u001b[1m> Finished chain.\u001b[0m\n"
     ]
    }
   ],
   "source": [
    "network_scan = {}\n",
    "for address in devices:\n",
    "    output = shell_agent(f\"List all the ports and services for this address: {address}\")\n",
    "    network_scan[str(address)] = output['output']\n"
   ]
  },
  {
   "cell_type": "code",
   "execution_count": 8,
   "metadata": {},
   "outputs": [
    {
     "name": "stdout",
     "output_type": "stream",
     "text": [
      "{'192.168.1.1': 'The ports and services for 192.168.1.1 are 80/tcp (http), '\n",
      "                '5500/tcp (hotline), 8180/tcp (unknown), 9000/tcp '\n",
      "                '(cslistener), and 10004/tcp (emcrmirccd).',\n",
      " '192.168.1.114': '53/tcp (domain), 5000/tcp (upnp), 7000/tcp '\n",
      "                  '(afs3-fileserver), 7100/tcp (font-service), 49152/tcp '\n",
      "                  '(unknown), 49163/tcp (unknown), 62078/tcp (iphone-sync)',\n",
      " '192.168.1.121': '49152/tcp open unknown, 49157/tcp open unknown, 62078/tcp '\n",
      "                  'open iphone-sync',\n",
      " '192.168.1.146': 'All 1000 scanned ports on 192.168.1.146 are in ignored '\n",
      "                  'states.',\n",
      " '192.168.1.179': 'No open ports or services were found on 192.168.1.179.',\n",
      " '192.168.1.181': '49152/tcp open unknown, 62078/tcp open iphone-sync',\n",
      " '192.168.1.182': '49153/tcp open unknown, 62078/tcp open iphone-sync'}\n"
     ]
    }
   ],
   "source": [
    "from pprint import pprint\n",
    "pprint(network_scan)"
   ]
  },
  {
   "attachments": {},
   "cell_type": "markdown",
   "metadata": {},
   "source": [
    "Using GPT3, we compile the report to make it human readable."
   ]
  },
  {
   "cell_type": "code",
   "execution_count": 12,
   "metadata": {},
   "outputs": [],
   "source": [
    "from langchain.llms import OpenAI\n",
    "llm = OpenAI(model_name='text-davinci-003')\n",
    "text= llm(f\"Create a simple network report out of the information below. Don't leave out any of the ports or services. Make a guess as to what each device could be. \\n\\n{network_scan}\", max_tokens=1000)"
   ]
  },
  {
   "cell_type": "code",
   "execution_count": 13,
   "metadata": {},
   "outputs": [
    {
     "name": "stdout",
     "output_type": "stream",
     "text": [
      "\n",
      "\n",
      "Network Report: \n",
      "\n",
      "Device 192.168.1.1: This device appears to be a web server with the ports 80/tcp (http), 5500/tcp (hotline), 8180/tcp (unknown), 9000/tcp (cslistener), and 10004/tcp (emcrmirccd) open. \n",
      "\n",
      "Device 192.168.1.114: This device appears to be a domain server with the ports 53/tcp (domain), 5000/tcp (upnp), 7000/tcp (afs3-fileserver), 7100/tcp (font-service), 49152/tcp (unknown), 49163/tcp (unknown), 62078/tcp (iphone-sync) open. \n",
      "\n",
      "Device 192.168.1.121: This device appears to be a mobile device with the ports 49152/tcp open unknown, 49157/tcp open unknown, 62078/tcp open iphone-sync open. \n",
      "\n",
      "Device 192.168.1.146: No open ports or services were found on this device. \n",
      "\n",
      "Device 192.168.1.179: No open ports or services were found on this device. \n",
      "\n",
      "Device 192.168.1.181: This device appears to be a mobile device with the ports 49152/tcp open unknown, 62078/tcp open iphone-sync open. \n",
      "\n",
      "Device 192.168.1.182: This device appears to be a mobile device with the ports 49153/tcp open unknown, 62078/tcp open iphone-sync open.\n"
     ]
    }
   ],
   "source": [
    "print(text)"
   ]
  }
 ],
 "metadata": {
  "kernelspec": {
   "display_name": "Python 3",
   "language": "python",
   "name": "python3"
  },
  "language_info": {
   "codemirror_mode": {
    "name": "ipython",
    "version": 3
   },
   "file_extension": ".py",
   "mimetype": "text/x-python",
   "name": "python",
   "nbconvert_exporter": "python",
   "pygments_lexer": "ipython3",
   "version": "3.11.5"
  },
  "orig_nbformat": 4
 },
 "nbformat": 4,
 "nbformat_minor": 2
}
