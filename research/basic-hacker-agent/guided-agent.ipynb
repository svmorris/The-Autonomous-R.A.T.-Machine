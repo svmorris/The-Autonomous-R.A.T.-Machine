{
 "cells": [
  {
   "attachments": {},
   "cell_type": "markdown",
   "metadata": {},
   "source": [
    "Guided hacking agent\n",
    "====================\n",
    "\n",
    "\n",
    "It is clear from previous testing, that even on very simple challenges, its not enough to simply point the agent at a target and tell it to hack it. When tried with even simplest of websites, the agent got confused, crashed and only really got the answer about 10% of the time.\n",
    "\n",
    "This will clearly not work for more complex, real world tasks.\n",
    "\n",
    "\n",
    "The goal for this file is to try make an agent that is guided more closely towards achieving its goal."
   ]
  },
  {
   "cell_type": "code",
   "execution_count": 1,
   "metadata": {},
   "outputs": [],
   "source": [
    "import os\n",
    "import openai\n",
    "from dotenv import load_dotenv\n",
    "from langchain.tools import ShellTool\n",
    "from langchain.python import PythonREPL\n",
    "from langchain.llms.openai import OpenAI\n",
    "from langchain.chat_models import ChatOpenAI\n",
    "from langchain.agents import initialize_agent\n",
    "from langchain.agents.agent_types import AgentType\n",
    "from langchain.tools.python.tool import PythonREPLTool\n",
    "from langchain.agents.agent_toolkits import create_python_agent\n",
    "\n",
    "load_dotenv()\n",
    "openai.organization = os.getenv(\"OPENAI_ORGANIZATION\")\n",
    "openai.api_key = os.getenv(\"OPENAI_API_KEY\")\n",
    "\n",
    "llm = ChatOpenAI(temperature=0.5,)# model=\"gpt-4\")\n",
    "shell_tool = ShellTool()\n",
    "python_tool = PythonREPLTool()\n",
    "\n",
    "shell_tool.description = shell_tool.description + f\"args {shell_tool.args}\".replace(\"{\", \"{{\").replace(\"}\", \"}}\")"
   ]
  },
  {
   "attachments": {},
   "cell_type": "markdown",
   "metadata": {},
   "source": [
    "TEMP\n",
    "----\n",
    "\n",
    "My reseach shows that for this we probably want to use the 'Structured input ReAct' agent, and possibly add memory to it. This would allow us to ask it multiple questions without having to re-start the agent and loose its context each time.\n",
    "\n",
    "Here is the langchain docs for it:\n",
    "```\n",
    "Structured input ReAct\n",
    "The structured tool chat agent is capable of using multi-input tools. Older agents are configured to specify an action input as a single string, but this agent can use a tools' argument schema to create a structured action input. This is useful for more complex tool usage, like precisely navigating around a browser.\n",
    "```\n",
    "\n",
    "I have found the following url that might help with implementing it, but it doesn't seem that useful at first glance. More research needed!\n",
    "[https://python.langchain.com/docs/modules/agents/agent_types/structured_chat/](https://python.langchain.com/docs/modules/agents/agent_types/structured_chat/)"
   ]
  }
 ],
 "metadata": {
  "kernelspec": {
   "display_name": ".venv",
   "language": "python",
   "name": "python3"
  },
  "language_info": {
   "codemirror_mode": {
    "name": "ipython",
    "version": 3
   },
   "file_extension": ".py",
   "mimetype": "text/x-python",
   "name": "python",
   "nbconvert_exporter": "python",
   "pygments_lexer": "ipython3",
   "version": "3.11.5"
  },
  "orig_nbformat": 4
 },
 "nbformat": 4,
 "nbformat_minor": 2
}
