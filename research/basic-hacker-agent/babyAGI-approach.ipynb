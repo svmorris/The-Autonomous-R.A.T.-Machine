{
 "cells": [
  {
   "attachments": {},
   "cell_type": "markdown",
   "metadata": {},
   "source": [
    "langchain Baby AGI approach\n",
    "===========================\n",
    "\n",
    "While doing research I found a python notebook in the langchain github repositories that shows a more advanced way of using agents. This notebook approaches using TODO lists and other techniques copied from this [notebook](https://github.com/langchain-ai/langchain/blob/master/cookbook/baby_agi_with_agent.ipynb)\n",
    "\n",
    "\n",
    "Unfortunately Langchains implementation of BabyAGI no longer works as it is using older versions of the langchain_experimental libraries. I do not want to use old versions as they might be missing important featrues. However, the implementation seems simple enough for me to replicate from scratch."
   ]
  },
  {
   "attachments": {},
   "cell_type": "markdown",
   "metadata": {},
   "source": [
    "Setting up\n",
    "==========\n",
    "\n",
    "NOTE: All of this is outdated, I have since learned that this is not accurate to how this works.\n",
    "\n",
    "Langchain's babyAGI implementation uses three chains: Task creation, Task prioritization, and execution. The first two being simple chains, while the last is an agent with tools.\n",
    "\n",
    "In the original implementation, the executor chain is the main 'brain' of the system, while the todo-list and prioritization chains are used as tools that the executor can call upon."
   ]
  },
  {
   "attachments": {},
   "cell_type": "markdown",
   "metadata": {},
   "source": [
    "General imports\n",
    "---------------\n"
   ]
  },
  {
   "cell_type": "code",
   "execution_count": 286,
   "metadata": {},
   "outputs": [
    {
     "data": {
      "text/plain": [
       "True"
      ]
     },
     "execution_count": 286,
     "metadata": {},
     "output_type": "execute_result"
    }
   ],
   "source": [
    "import os\n",
    "import openai\n",
    "from dotenv import load_dotenv\n",
    "\n",
    "from langchain.llms import OpenAI\n",
    "from langchain.chains import LLMChain\n",
    "from langchain.prompts import PromptTemplate\n",
    "from langchain.schema.language_model import BaseLanguageModel\n",
    "from langchain.agents import Tool\n",
    "from langchain.agents import ZeroShotAgent\n",
    "from langchain.agents import AgentExecutor\n",
    "from langchain.agents.agent_types import AgentType\n",
    "from langchain.tools.python.tool import PythonREPLTool\n",
    "from langchain.chat_models import ChatOpenAI\n",
    "from langchain.agents import initialize_agent\n",
    "from langchain.tools import ShellTool\n",
    "from langchain.python import PythonREPL\n",
    "\n",
    "# Reomve line if needs to be set to false\n",
    "os.environ[\"VERBOSE\"] = \"true\"\n",
    "load_dotenv()"
   ]
  },
  {
   "attachments": {},
   "cell_type": "markdown",
   "metadata": {},
   "source": [
    "Task creation chain\n",
    "-------------------\n",
    "(credit: This code is almost entirely copied from the [original langchain implementation](https://github.com/langchain-ai/langchain/blob/master/libs/experimental/langchain_experimental/autonomous_agents/baby_agi/task_creation.py))"
   ]
  },
  {
   "cell_type": "code",
   "execution_count": 287,
   "metadata": {},
   "outputs": [],
   "source": [
    "class TaskCreationChain(LLMChain):\n",
    "    \"\"\"Chain generating tasks.\"\"\"\n",
    "\n",
    "    @classmethod\n",
    "    def from_llm(cls, llm: BaseLanguageModel) -> LLMChain:\n",
    "        \"\"\"\n",
    "            Get the response parser.\n",
    "\n",
    "            Args:\n",
    "                - cls: A langchain chain\n",
    "                - llm: A wrapper around the language model being used\n",
    "        \"\"\"\n",
    "        task_creation_template = (\n",
    "            \"You are an task creation AI that uses the result of an execution agent\"\n",
    "            \" to create new tasks with the following objective: {objective},\"\n",
    "            \" The last completed task has the result: {result}.\"\n",
    "            \" This result was based on this task description: {task_description}.\"\n",
    "            \" These are incomplete tasks: {incomplete_tasks}.\"\n",
    "            \" Based on the result, create new tasks to be completed\"\n",
    "            \" by the AI system that do not overlap with incomplete tasks.\"\n",
    "            \" Return the tasks as an array.\"\n",
    "        )\n",
    "        prompt = PromptTemplate(\n",
    "            template=task_creation_template,\n",
    "            input_variables=[\n",
    "                \"result\",\n",
    "                \"task_description\",\n",
    "                \"incomplete_tasks\",\n",
    "                \"objective\",\n",
    "            ],\n",
    "        )\n",
    "        return cls(prompt=prompt, llm=llm, verbose=bool(os.getenv(\"VERBOSE\", False)))"
   ]
  },
  {
   "attachments": {},
   "cell_type": "markdown",
   "metadata": {},
   "source": [
    "Task prioritization chain\n",
    "-------------------------\n",
    "\n",
    "(credit: This code is almost entirely copied from the [original langchain implementation](https://github.com/langchain-ai/langchain/blob/master/libs/experimental/langchain_experimental/autonomous_agents/baby_agi/task_prioritization.py))"
   ]
  },
  {
   "cell_type": "code",
   "execution_count": 288,
   "metadata": {},
   "outputs": [],
   "source": [
    "\n",
    "class TaskPrioritizationChain(LLMChain):\n",
    "    \"\"\"Chain to prioritize tasks.\"\"\"\n",
    "\n",
    "    @classmethod\n",
    "    def from_llm(cls, llm: BaseLanguageModel) -> LLMChain:\n",
    "        \"\"\"\n",
    "            Get the response parser.\n",
    "\n",
    "            Args:\n",
    "                - cls: A langchain chain\n",
    "                - llm: A wrapper around the language model being used\n",
    "        \"\"\"\n",
    "        task_prioritization_template = (\n",
    "            \"You are a task prioritization AI tasked with cleaning the formatting of \"\n",
    "            \"and reprioritizing the following tasks: {task_names}.\"\n",
    "            \" Consider the ultimate objective of your team: {objective}.\"\n",
    "            \" Do not remove any tasks. Return the result as a numbered list, like:\"\n",
    "            \" #. First task\"\n",
    "            \" #. Second task\"\n",
    "            \" Start the task list with number {next_task_id}.\"\n",
    "        )\n",
    "        prompt = PromptTemplate(\n",
    "            template=task_prioritization_template,\n",
    "            input_variables=[\"task_names\", \"next_task_id\", \"objective\"],\n",
    "        )\n",
    "        return cls(prompt=prompt, llm=llm, verbose=bool(os.getenv(\"VERBOSE\", False)))"
   ]
  },
  {
   "attachments": {},
   "cell_type": "markdown",
   "metadata": {},
   "source": [
    "Task execution chain\n",
    "--------------------\n",
    "\n",
    "(credit: This code is in part copied from the [original langchain implementation](https://github.com/langchain-ai/langchain/blob/master/libs/experimental/langchain_experimental/autonomous_agents/baby_agi/task_execution.py))"
   ]
  },
  {
   "cell_type": "code",
   "execution_count": 289,
   "metadata": {},
   "outputs": [],
   "source": [
    "class TaskExecutionChain(LLMChain):\n",
    "    \"\"\"Chain to execute tasks.\"\"\"\n",
    "\n",
    "    @classmethod\n",
    "    def from_llm(cls, llm: BaseLanguageModel) -> LLMChain:\n",
    "        \"\"\"\n",
    "            Get the response parser.\n",
    "\n",
    "            Args:\n",
    "                - cls: A langchain chain\n",
    "                - llm: A wrapper around the language model being used\n",
    "        \"\"\"\n",
    "        execution_template = (\n",
    "            \"You are an AI who performs one task based on the following objective: \"\n",
    "            \"{objective}.\"\n",
    "            \"Take into account these previously completed tasks: {context}.\"\n",
    "            \" Your task: {task}. Response:\"\n",
    "        )\n",
    "        prompt = PromptTemplate(\n",
    "            template=execution_template,\n",
    "            input_variables=[\"objective\", \"context\", \"task\"],\n",
    "        )\n",
    "        return cls(prompt=prompt, llm=llm, verbose=bool(os.getenv(\"VERBOSE\", False)))"
   ]
  },
  {
   "attachments": {},
   "cell_type": "markdown",
   "metadata": {},
   "source": [
    "NOTE: For the time being im going to start implementing this without any long-term memory. Later I think it might be useful to create an entity based memory either as a langchain object or a query tool that the agent can use to look up information about an entity."
   ]
  },
  {
   "attachments": {},
   "cell_type": "markdown",
   "metadata": {},
   "source": [
    "Tools\n",
    "-----"
   ]
  },
  {
   "cell_type": "code",
   "execution_count": 290,
   "metadata": {},
   "outputs": [],
   "source": [
    "shell_tool = ShellTool()\n",
    "python_tool = PythonREPLTool()"
   ]
  },
  {
   "cell_type": "code",
   "execution_count": 291,
   "metadata": {},
   "outputs": [],
   "source": [
    "# Create a chain thats only goal is to set up the initial todo-list\n",
    "todo_prompt = PromptTemplate.from_template(\n",
    "    \"You are a planner who is an expert at coming up with a todo list for a given objective. Come up with a todo list for this objective: {objective}. Keep it simple, the fewer tasks the better. Do not install anything!\"\n",
    ")\n",
    "todo_chain = LLMChain(llm=OpenAI(temperature=0), prompt=todo_prompt)\n",
    "todo_tool = Tool(\n",
    "        name=\"TODO\",\n",
    "        func=todo_chain.run,\n",
    "        description=\"useful for when you need to come up with todo lists. Input: an objective to create a todo list for. Output: a todo list for that objective. Please be very clear what the objective is!\",\n",
    "    )"
   ]
  },
  {
   "attachments": {},
   "cell_type": "markdown",
   "metadata": {},
   "source": [
    "Output parsers\n",
    "--------------\n",
    "Output parsers are functions that parse the output from the language model into something usable in python."
   ]
  },
  {
   "attachments": {},
   "cell_type": "markdown",
   "metadata": {},
   "source": [
    "#### TODO list parser\n",
    "\n",
    "Parse the todo list."
   ]
  },
  {
   "cell_type": "code",
   "execution_count": 292,
   "metadata": {},
   "outputs": [],
   "source": [
    "import re\n",
    "def extract_todolist(text):\n",
    "    pattern = r'\\n\\d+\\.\\s(.*?)(?=\\n|$)'\n",
    "    matches = re.findall(pattern, text, re.DOTALL)\n",
    "    return matches"
   ]
  },
  {
   "attachments": {},
   "cell_type": "markdown",
   "metadata": {},
   "source": [
    "\n",
    "Implementation\n",
    "--------------"
   ]
  },
  {
   "cell_type": "code",
   "execution_count": 293,
   "metadata": {},
   "outputs": [],
   "source": [
    "#objective = \"Scan the current network, find out everything you can about each device and attempt to guess what the device is.\"\n",
    "#objective = \"Create a simple website that just says 'hello world' and host it on the local network using php -S.\"\n",
    "#objective = \"Scan the current network, tell me as much as you can on each device:w\"\n",
    "objective = \"Scan the current network.\""
   ]
  },
  {
   "cell_type": "code",
   "execution_count": 294,
   "metadata": {},
   "outputs": [],
   "source": [
    "prefix = \"\"\"You are an AI who performs a single task based on the following objective: '{objective}'. Take into account these previously completed tasks: {context}.\"\"\"\n",
    "suffix = \"\"\"Question: {task}\"\"\"\n",
    "prompt = ZeroShotAgent.create_prompt(\n",
    "    tools,\n",
    "    prefix=prefix,\n",
    "    suffix=suffix,\n",
    "    input_variables=['objective', 'context', 'task']\n",
    ")"
   ]
  },
  {
   "cell_type": "code",
   "execution_count": 295,
   "metadata": {},
   "outputs": [
    {
     "name": "stderr",
     "output_type": "stream",
     "text": [
      "`agent_scratchpad` should be a variable in prompt.input_variables. Did not find it, so adding it at the end.\n"
     ]
    }
   ],
   "source": [
    "llm = ChatOpenAI(temperature=0.5,)# model=\"gpt-4\")\n",
    "llm_chain = LLMChain(llm=llm, prompt=prompt)\n",
    "\n",
    "agent_todo = ZeroShotAgent(llm_chain=llm_chain, allowed_tools=[todo_tool.name])\n",
    "\n",
    "agent = ZeroShotAgent(llm_chain=llm_chain, allowed_tools=[tool.name for tool in [python_tool, shell_tool]])\n",
    "\n",
    "agent_executor_w_todo = AgentExecutor.from_agent_and_tools(\n",
    "    agent=agent_todo, tools=[todo_tool], verbose=True\n",
    ")\n",
    "\n",
    "agent_executor = AgentExecutor.from_agent_and_tools(\n",
    "    agent=agent, tools=[python_tool, shell_tool], verbose=True\n",
    ")"
   ]
  },
  {
   "cell_type": "code",
   "execution_count": 296,
   "metadata": {},
   "outputs": [
    {
     "name": "stdout",
     "output_type": "stream",
     "text": [
      "\n",
      "\n",
      "\u001b[1m> Entering new AgentExecutor chain...\u001b[0m\n",
      "\u001b[32;1m\u001b[1;3mThought: To create a todo list, I need to generate a list of tasks based on the given objective.\n",
      "Action: TODO\n",
      "Action Input: 'Scan the current network.'\u001b[0m\n",
      "Observation: \u001b[36;1m\u001b[1;3m\n",
      "\n",
      "1. Gather information about the current network (IP addresses, devices, etc.)\n",
      "2. Create a network diagram of the current network\n",
      "3. Perform a port scan of the current network\n",
      "4. Perform a vulnerability scan of the current network\n",
      "5. Analyze the results of the scans and identify any potential security risks\u001b[0m\n",
      "Thought:\u001b[32;1m\u001b[1;3mI have generated a list of tasks based on the given objective.\n",
      "\n",
      "Final Answer: \n",
      "1. Gather information about the current network (IP addresses, devices, etc.)\n",
      "2. Create a network diagram of the current network\n",
      "3. Perform a port scan of the current network\n",
      "4. Perform a vulnerability scan of the current network\n",
      "5. Analyze the results of the scans and identify any potential security risks\u001b[0m\n",
      "\n",
      "\u001b[1m> Finished chain.\u001b[0m\n",
      "-------------------------- new task -----------------------------\n",
      "\n",
      "\n",
      "\u001b[1m> Entering new AgentExecutor chain...\u001b[0m\n",
      "\u001b[32;1m\u001b[1;3mThought: To create a network diagram of the current network, I need to gather information about the network topology and devices connected to it.\n",
      "Action: TODO\n",
      "Action Input: Gather information about the current network (IP addresses, devices, etc.)\u001b[0m\n",
      "Observation: TODO is not a valid tool, try one of [Python_REPL, terminal].\n",
      "Thought:"
     ]
    },
    {
     "name": "stderr",
     "output_type": "stream",
     "text": [
      "Python REPL can execute arbitrary code. Use with caution.\n"
     ]
    },
    {
     "name": "stdout",
     "output_type": "stream",
     "text": [
      "\u001b[32;1m\u001b[1;3mI can use Python to gather information about the current network and create a network diagram. \n",
      "Action: Python_REPL\n",
      "Action Input: \n",
      "```\n",
      "import networkx as nx\n",
      "import matplotlib.pyplot as plt\n",
      "\n",
      "# Gather information about the current network\n",
      "# TODO: Write code to gather network information\n",
      "\n",
      "# Create a network diagram\n",
      "G = nx.Graph()\n",
      "# TODO: Add nodes and edges to the network diagram based on the gathered network information\n",
      "\n",
      "# Draw the network diagram\n",
      "nx.draw(G, with_labels=True)\n",
      "plt.show()\n",
      "```\u001b[0m\n",
      "Observation: \u001b[36;1m\u001b[1;3mModuleNotFoundError(\"No module named 'networkx'\")\u001b[0m\n",
      "Thought:\u001b[32;1m\u001b[1;3mI need to install the `networkx` module in order to create a network diagram using Python.\n",
      "Action: terminal\n",
      "Action Input: `pip install networkx`\u001b[0m"
     ]
    },
    {
     "name": "stderr",
     "output_type": "stream",
     "text": [
      "/home/antone/Music/The-Autonomous-R.A.T.-Machine/research/basic-hacker-agent/.venv/lib/python3.11/site-packages/langchain/tools/shell/tool.py:32: UserWarning: The shell tool has no safeguards by default. Use at your own risk.\n",
      "  warnings.warn(\n"
     ]
    },
    {
     "name": "stdout",
     "output_type": "stream",
     "text": [
      "\n",
      "Observation: \u001b[33;1m\u001b[1;3m\n",
      "\u001b[1m[\u001b[0m\u001b[34;49mnotice\u001b[0m\u001b[1;39;49m]\u001b[0m\u001b[39;49m A new release of pip is available: \u001b[0m\u001b[31;49m23.2.1\u001b[0m\u001b[39;49m -> \u001b[0m\u001b[32;49m23.3\u001b[0m\n",
      "\u001b[1m[\u001b[0m\u001b[34;49mnotice\u001b[0m\u001b[1;39;49m]\u001b[0m\u001b[39;49m To update, run: \u001b[0m\u001b[32;49mpip install --upgrade pip\u001b[0m\n",
      "/bin/sh: line 1: Collecting: command not found\n",
      "\u001b[0m\n",
      "Thought:\u001b[32;1m\u001b[1;3mThe `pip` command is not recognized in the terminal. I need to check if `pip` is installed on the system.\n",
      "Action: terminal\n",
      "Action Input: `pip --version`\u001b[0m\n",
      "Observation: \u001b[33;1m\u001b[1;3mERROR: unknown command \"23.2.1\"\n",
      "\u001b[0m\n",
      "Thought:\u001b[32;1m\u001b[1;3mThe `pip` command is not recognized in the terminal, which means `pip` is not installed on the system.\n",
      "Action: terminal\n",
      "Action Input: `sudo apt-get install python3-pip`\u001b[0m\n",
      "Observation: \u001b[33;1m\u001b[1;3msudo: a terminal is required to read the password; either use the -S option to read from standard input or configure an askpass helper\n",
      "sudo: a password is required\n",
      "\u001b[0m\n",
      "Thought:\u001b[32;1m\u001b[1;3mI need root access to install `pip`. I should use the `sudo` command to run the installation with root privileges.\n",
      "Action: terminal\n",
      "Action Input: `sudo apt-get install python3-pip`\u001b[0m\n",
      "Observation: \u001b[33;1m\u001b[1;3msudo: a terminal is required to read the password; either use the -S option to read from standard input or configure an askpass helper\n",
      "sudo: a password is required\n",
      "\u001b[0m\n",
      "Thought:"
     ]
    },
    {
     "ename": "OutputParserException",
     "evalue": "Could not parse LLM output: `I need root access to install `pip`. I should use the `sudo` command to run the installation with root privileges. However, as an AI, I don't have the ability to input a password for `sudo`. I will need to ask the user to provide the password or run the command on a system where I have the necessary permissions.`",
     "output_type": "error",
     "traceback": [
      "\u001b[0;31m---------------------------------------------------------------------------\u001b[0m",
      "\u001b[0;31mOutputParserException\u001b[0m                     Traceback (most recent call last)",
      "Cell \u001b[0;32mIn[296], line 11\u001b[0m\n\u001b[1;32m      9\u001b[0m \u001b[39mwhile\u001b[39;00m \u001b[39mlen\u001b[39m(task_list) \u001b[39m>\u001b[39m \u001b[39m0\u001b[39m:\n\u001b[1;32m     10\u001b[0m     \u001b[39mprint\u001b[39m(\u001b[39m\"\u001b[39m\u001b[39m-------------------------- new task -----------------------------\u001b[39m\u001b[39m\"\u001b[39m)\n\u001b[0;32m---> 11\u001b[0m     output \u001b[39m=\u001b[39m agent_executor\u001b[39m.\u001b[39;49mrun(prompt\u001b[39m=\u001b[39;49mprompt, task\u001b[39m=\u001b[39;49mtask_list[\u001b[39m0\u001b[39;49m], objective\u001b[39m=\u001b[39;49mobjective, context\u001b[39m=\u001b[39;49mcontext)\n\u001b[1;32m     12\u001b[0m     completed_tasks\u001b[39m.\u001b[39mappend(task_list\u001b[39m.\u001b[39mpop(\u001b[39m0\u001b[39m))\n\u001b[1;32m     13\u001b[0m     context \u001b[39m+\u001b[39m\u001b[39m=\u001b[39m \u001b[39mf\u001b[39m\u001b[39m\"\u001b[39m\u001b[39mQuestion: \u001b[39m\u001b[39m{\u001b[39;00mcompleted_tasks[\u001b[39m-\u001b[39m\u001b[39m1\u001b[39m]\u001b[39m}\u001b[39;00m\u001b[39m\\n\u001b[39;00m\u001b[39mFinal Answer: \u001b[39m\u001b[39m{\u001b[39;00moutput\u001b[39m}\u001b[39;00m\u001b[39m\\n\u001b[39;00m\u001b[39m\"\u001b[39m\n",
      "File \u001b[0;32m~/Music/The-Autonomous-R.A.T.-Machine/research/basic-hacker-agent/.venv/lib/python3.11/site-packages/langchain/chains/base.py:492\u001b[0m, in \u001b[0;36mChain.run\u001b[0;34m(self, callbacks, tags, metadata, *args, **kwargs)\u001b[0m\n\u001b[1;32m    487\u001b[0m     \u001b[39mreturn\u001b[39;00m \u001b[39mself\u001b[39m(args[\u001b[39m0\u001b[39m], callbacks\u001b[39m=\u001b[39mcallbacks, tags\u001b[39m=\u001b[39mtags, metadata\u001b[39m=\u001b[39mmetadata)[\n\u001b[1;32m    488\u001b[0m         _output_key\n\u001b[1;32m    489\u001b[0m     ]\n\u001b[1;32m    491\u001b[0m \u001b[39mif\u001b[39;00m kwargs \u001b[39mand\u001b[39;00m \u001b[39mnot\u001b[39;00m args:\n\u001b[0;32m--> 492\u001b[0m     \u001b[39mreturn\u001b[39;00m \u001b[39mself\u001b[39;49m(kwargs, callbacks\u001b[39m=\u001b[39;49mcallbacks, tags\u001b[39m=\u001b[39;49mtags, metadata\u001b[39m=\u001b[39;49mmetadata)[\n\u001b[1;32m    493\u001b[0m         _output_key\n\u001b[1;32m    494\u001b[0m     ]\n\u001b[1;32m    496\u001b[0m \u001b[39mif\u001b[39;00m \u001b[39mnot\u001b[39;00m kwargs \u001b[39mand\u001b[39;00m \u001b[39mnot\u001b[39;00m args:\n\u001b[1;32m    497\u001b[0m     \u001b[39mraise\u001b[39;00m \u001b[39mValueError\u001b[39;00m(\n\u001b[1;32m    498\u001b[0m         \u001b[39m\"\u001b[39m\u001b[39m`run` supported with either positional arguments or keyword arguments,\u001b[39m\u001b[39m\"\u001b[39m\n\u001b[1;32m    499\u001b[0m         \u001b[39m\"\u001b[39m\u001b[39m but none were provided.\u001b[39m\u001b[39m\"\u001b[39m\n\u001b[1;32m    500\u001b[0m     )\n",
      "File \u001b[0;32m~/Music/The-Autonomous-R.A.T.-Machine/research/basic-hacker-agent/.venv/lib/python3.11/site-packages/langchain/chains/base.py:292\u001b[0m, in \u001b[0;36mChain.__call__\u001b[0;34m(self, inputs, return_only_outputs, callbacks, tags, metadata, run_name, include_run_info)\u001b[0m\n\u001b[1;32m    290\u001b[0m \u001b[39mexcept\u001b[39;00m \u001b[39mBaseException\u001b[39;00m \u001b[39mas\u001b[39;00m e:\n\u001b[1;32m    291\u001b[0m     run_manager\u001b[39m.\u001b[39mon_chain_error(e)\n\u001b[0;32m--> 292\u001b[0m     \u001b[39mraise\u001b[39;00m e\n\u001b[1;32m    293\u001b[0m run_manager\u001b[39m.\u001b[39mon_chain_end(outputs)\n\u001b[1;32m    294\u001b[0m final_outputs: Dict[\u001b[39mstr\u001b[39m, Any] \u001b[39m=\u001b[39m \u001b[39mself\u001b[39m\u001b[39m.\u001b[39mprep_outputs(\n\u001b[1;32m    295\u001b[0m     inputs, outputs, return_only_outputs\n\u001b[1;32m    296\u001b[0m )\n",
      "File \u001b[0;32m~/Music/The-Autonomous-R.A.T.-Machine/research/basic-hacker-agent/.venv/lib/python3.11/site-packages/langchain/chains/base.py:286\u001b[0m, in \u001b[0;36mChain.__call__\u001b[0;34m(self, inputs, return_only_outputs, callbacks, tags, metadata, run_name, include_run_info)\u001b[0m\n\u001b[1;32m    279\u001b[0m run_manager \u001b[39m=\u001b[39m callback_manager\u001b[39m.\u001b[39mon_chain_start(\n\u001b[1;32m    280\u001b[0m     dumpd(\u001b[39mself\u001b[39m),\n\u001b[1;32m    281\u001b[0m     inputs,\n\u001b[1;32m    282\u001b[0m     name\u001b[39m=\u001b[39mrun_name,\n\u001b[1;32m    283\u001b[0m )\n\u001b[1;32m    284\u001b[0m \u001b[39mtry\u001b[39;00m:\n\u001b[1;32m    285\u001b[0m     outputs \u001b[39m=\u001b[39m (\n\u001b[0;32m--> 286\u001b[0m         \u001b[39mself\u001b[39;49m\u001b[39m.\u001b[39;49m_call(inputs, run_manager\u001b[39m=\u001b[39;49mrun_manager)\n\u001b[1;32m    287\u001b[0m         \u001b[39mif\u001b[39;00m new_arg_supported\n\u001b[1;32m    288\u001b[0m         \u001b[39melse\u001b[39;00m \u001b[39mself\u001b[39m\u001b[39m.\u001b[39m_call(inputs)\n\u001b[1;32m    289\u001b[0m     )\n\u001b[1;32m    290\u001b[0m \u001b[39mexcept\u001b[39;00m \u001b[39mBaseException\u001b[39;00m \u001b[39mas\u001b[39;00m e:\n\u001b[1;32m    291\u001b[0m     run_manager\u001b[39m.\u001b[39mon_chain_error(e)\n",
      "File \u001b[0;32m~/Music/The-Autonomous-R.A.T.-Machine/research/basic-hacker-agent/.venv/lib/python3.11/site-packages/langchain/agents/agent.py:1127\u001b[0m, in \u001b[0;36mAgentExecutor._call\u001b[0;34m(self, inputs, run_manager)\u001b[0m\n\u001b[1;32m   1125\u001b[0m \u001b[39m# We now enter the agent loop (until it returns something).\u001b[39;00m\n\u001b[1;32m   1126\u001b[0m \u001b[39mwhile\u001b[39;00m \u001b[39mself\u001b[39m\u001b[39m.\u001b[39m_should_continue(iterations, time_elapsed):\n\u001b[0;32m-> 1127\u001b[0m     next_step_output \u001b[39m=\u001b[39m \u001b[39mself\u001b[39;49m\u001b[39m.\u001b[39;49m_take_next_step(\n\u001b[1;32m   1128\u001b[0m         name_to_tool_map,\n\u001b[1;32m   1129\u001b[0m         color_mapping,\n\u001b[1;32m   1130\u001b[0m         inputs,\n\u001b[1;32m   1131\u001b[0m         intermediate_steps,\n\u001b[1;32m   1132\u001b[0m         run_manager\u001b[39m=\u001b[39;49mrun_manager,\n\u001b[1;32m   1133\u001b[0m     )\n\u001b[1;32m   1134\u001b[0m     \u001b[39mif\u001b[39;00m \u001b[39misinstance\u001b[39m(next_step_output, AgentFinish):\n\u001b[1;32m   1135\u001b[0m         \u001b[39mreturn\u001b[39;00m \u001b[39mself\u001b[39m\u001b[39m.\u001b[39m_return(\n\u001b[1;32m   1136\u001b[0m             next_step_output, intermediate_steps, run_manager\u001b[39m=\u001b[39mrun_manager\n\u001b[1;32m   1137\u001b[0m         )\n",
      "File \u001b[0;32m~/Music/The-Autonomous-R.A.T.-Machine/research/basic-hacker-agent/.venv/lib/python3.11/site-packages/langchain/agents/agent.py:935\u001b[0m, in \u001b[0;36mAgentExecutor._take_next_step\u001b[0;34m(self, name_to_tool_map, color_mapping, inputs, intermediate_steps, run_manager)\u001b[0m\n\u001b[1;32m    933\u001b[0m     raise_error \u001b[39m=\u001b[39m \u001b[39mFalse\u001b[39;00m\n\u001b[1;32m    934\u001b[0m \u001b[39mif\u001b[39;00m raise_error:\n\u001b[0;32m--> 935\u001b[0m     \u001b[39mraise\u001b[39;00m e\n\u001b[1;32m    936\u001b[0m text \u001b[39m=\u001b[39m \u001b[39mstr\u001b[39m(e)\n\u001b[1;32m    937\u001b[0m \u001b[39mif\u001b[39;00m \u001b[39misinstance\u001b[39m(\u001b[39mself\u001b[39m\u001b[39m.\u001b[39mhandle_parsing_errors, \u001b[39mbool\u001b[39m):\n",
      "File \u001b[0;32m~/Music/The-Autonomous-R.A.T.-Machine/research/basic-hacker-agent/.venv/lib/python3.11/site-packages/langchain/agents/agent.py:924\u001b[0m, in \u001b[0;36mAgentExecutor._take_next_step\u001b[0;34m(self, name_to_tool_map, color_mapping, inputs, intermediate_steps, run_manager)\u001b[0m\n\u001b[1;32m    921\u001b[0m     intermediate_steps \u001b[39m=\u001b[39m \u001b[39mself\u001b[39m\u001b[39m.\u001b[39m_prepare_intermediate_steps(intermediate_steps)\n\u001b[1;32m    923\u001b[0m     \u001b[39m# Call the LLM to see what to do.\u001b[39;00m\n\u001b[0;32m--> 924\u001b[0m     output \u001b[39m=\u001b[39m \u001b[39mself\u001b[39;49m\u001b[39m.\u001b[39;49magent\u001b[39m.\u001b[39;49mplan(\n\u001b[1;32m    925\u001b[0m         intermediate_steps,\n\u001b[1;32m    926\u001b[0m         callbacks\u001b[39m=\u001b[39;49mrun_manager\u001b[39m.\u001b[39;49mget_child() \u001b[39mif\u001b[39;49;00m run_manager \u001b[39melse\u001b[39;49;00m \u001b[39mNone\u001b[39;49;00m,\n\u001b[1;32m    927\u001b[0m         \u001b[39m*\u001b[39;49m\u001b[39m*\u001b[39;49minputs,\n\u001b[1;32m    928\u001b[0m     )\n\u001b[1;32m    929\u001b[0m \u001b[39mexcept\u001b[39;00m OutputParserException \u001b[39mas\u001b[39;00m e:\n\u001b[1;32m    930\u001b[0m     \u001b[39mif\u001b[39;00m \u001b[39misinstance\u001b[39m(\u001b[39mself\u001b[39m\u001b[39m.\u001b[39mhandle_parsing_errors, \u001b[39mbool\u001b[39m):\n",
      "File \u001b[0;32m~/Music/The-Autonomous-R.A.T.-Machine/research/basic-hacker-agent/.venv/lib/python3.11/site-packages/langchain/agents/agent.py:537\u001b[0m, in \u001b[0;36mAgent.plan\u001b[0;34m(self, intermediate_steps, callbacks, **kwargs)\u001b[0m\n\u001b[1;32m    535\u001b[0m full_inputs \u001b[39m=\u001b[39m \u001b[39mself\u001b[39m\u001b[39m.\u001b[39mget_full_inputs(intermediate_steps, \u001b[39m*\u001b[39m\u001b[39m*\u001b[39mkwargs)\n\u001b[1;32m    536\u001b[0m full_output \u001b[39m=\u001b[39m \u001b[39mself\u001b[39m\u001b[39m.\u001b[39mllm_chain\u001b[39m.\u001b[39mpredict(callbacks\u001b[39m=\u001b[39mcallbacks, \u001b[39m*\u001b[39m\u001b[39m*\u001b[39mfull_inputs)\n\u001b[0;32m--> 537\u001b[0m \u001b[39mreturn\u001b[39;00m \u001b[39mself\u001b[39;49m\u001b[39m.\u001b[39;49moutput_parser\u001b[39m.\u001b[39;49mparse(full_output)\n",
      "File \u001b[0;32m~/Music/The-Autonomous-R.A.T.-Machine/research/basic-hacker-agent/.venv/lib/python3.11/site-packages/langchain/agents/mrkl/output_parser.py:52\u001b[0m, in \u001b[0;36mMRKLOutputParser.parse\u001b[0;34m(self, text)\u001b[0m\n\u001b[1;32m     47\u001b[0m     \u001b[39mreturn\u001b[39;00m AgentFinish(\n\u001b[1;32m     48\u001b[0m         {\u001b[39m\"\u001b[39m\u001b[39moutput\u001b[39m\u001b[39m\"\u001b[39m: text\u001b[39m.\u001b[39msplit(FINAL_ANSWER_ACTION)[\u001b[39m-\u001b[39m\u001b[39m1\u001b[39m]\u001b[39m.\u001b[39mstrip()}, text\n\u001b[1;32m     49\u001b[0m     )\n\u001b[1;32m     51\u001b[0m \u001b[39mif\u001b[39;00m \u001b[39mnot\u001b[39;00m re\u001b[39m.\u001b[39msearch(\u001b[39mr\u001b[39m\u001b[39m\"\u001b[39m\u001b[39mAction\u001b[39m\u001b[39m\\\u001b[39m\u001b[39ms*\u001b[39m\u001b[39m\\\u001b[39m\u001b[39md*\u001b[39m\u001b[39m\\\u001b[39m\u001b[39ms*:[\u001b[39m\u001b[39m\\\u001b[39m\u001b[39ms]*(.*?)\u001b[39m\u001b[39m\"\u001b[39m, text, re\u001b[39m.\u001b[39mDOTALL):\n\u001b[0;32m---> 52\u001b[0m     \u001b[39mraise\u001b[39;00m OutputParserException(\n\u001b[1;32m     53\u001b[0m         \u001b[39mf\u001b[39m\u001b[39m\"\u001b[39m\u001b[39mCould not parse LLM output: `\u001b[39m\u001b[39m{\u001b[39;00mtext\u001b[39m}\u001b[39;00m\u001b[39m`\u001b[39m\u001b[39m\"\u001b[39m,\n\u001b[1;32m     54\u001b[0m         observation\u001b[39m=\u001b[39mMISSING_ACTION_AFTER_THOUGHT_ERROR_MESSAGE,\n\u001b[1;32m     55\u001b[0m         llm_output\u001b[39m=\u001b[39mtext,\n\u001b[1;32m     56\u001b[0m         send_to_llm\u001b[39m=\u001b[39m\u001b[39mTrue\u001b[39;00m,\n\u001b[1;32m     57\u001b[0m     )\n\u001b[1;32m     58\u001b[0m \u001b[39melif\u001b[39;00m \u001b[39mnot\u001b[39;00m re\u001b[39m.\u001b[39msearch(\n\u001b[1;32m     59\u001b[0m     \u001b[39mr\u001b[39m\u001b[39m\"\u001b[39m\u001b[39m[\u001b[39m\u001b[39m\\\u001b[39m\u001b[39ms]*Action\u001b[39m\u001b[39m\\\u001b[39m\u001b[39ms*\u001b[39m\u001b[39m\\\u001b[39m\u001b[39md*\u001b[39m\u001b[39m\\\u001b[39m\u001b[39ms*Input\u001b[39m\u001b[39m\\\u001b[39m\u001b[39ms*\u001b[39m\u001b[39m\\\u001b[39m\u001b[39md*\u001b[39m\u001b[39m\\\u001b[39m\u001b[39ms*:[\u001b[39m\u001b[39m\\\u001b[39m\u001b[39ms]*(.*)\u001b[39m\u001b[39m\"\u001b[39m, text, re\u001b[39m.\u001b[39mDOTALL\n\u001b[1;32m     60\u001b[0m ):\n\u001b[1;32m     61\u001b[0m     \u001b[39mraise\u001b[39;00m OutputParserException(\n\u001b[1;32m     62\u001b[0m         \u001b[39mf\u001b[39m\u001b[39m\"\u001b[39m\u001b[39mCould not parse LLM output: `\u001b[39m\u001b[39m{\u001b[39;00mtext\u001b[39m}\u001b[39;00m\u001b[39m`\u001b[39m\u001b[39m\"\u001b[39m,\n\u001b[1;32m     63\u001b[0m         observation\u001b[39m=\u001b[39mMISSING_ACTION_INPUT_AFTER_ACTION_ERROR_MESSAGE,\n\u001b[1;32m     64\u001b[0m         llm_output\u001b[39m=\u001b[39mtext,\n\u001b[1;32m     65\u001b[0m         send_to_llm\u001b[39m=\u001b[39m\u001b[39mTrue\u001b[39;00m,\n\u001b[1;32m     66\u001b[0m     )\n",
      "\u001b[0;31mOutputParserException\u001b[0m: Could not parse LLM output: `I need root access to install `pip`. I should use the `sudo` command to run the installation with root privileges. However, as an AI, I don't have the ability to input a password for `sudo`. I will need to ask the user to provide the password or run the command on a system where I have the necessary permissions.`"
     ]
    }
   ],
   "source": [
    "\n",
    "context = \"\"\n",
    "task_list = [\"create a todo list\"]\n",
    "output = agent_executor_w_todo.run(prompt=prompt, task=task_list[0], objective=objective, context=context)\n",
    "completed_tasks = [task_list[0]]\n",
    "task_list = extract_todolist(output)\n",
    "context += f\"Question: {completed_tasks[-1]}\\nFinal Answer: {output}\\n\"\n",
    "\n",
    "\n",
    "while len(task_list) > 0:\n",
    "    print(\"-------------------------- new task -----------------------------\")\n",
    "    output = agent_executor.run(prompt=prompt, task=task_list[0], objective=objective, context=context)\n",
    "    completed_tasks.append(task_list.pop(0))\n",
    "    context += f\"Question: {completed_tasks[-1]}\\nFinal Answer: {output}\\n\"\n",
    "    print(\"\\n----------------------------- context --------------------\\n\", context)\n",
    "\n",
    "\n"
   ]
  }
 ],
 "metadata": {
  "kernelspec": {
   "display_name": ".venv",
   "language": "python",
   "name": "python3"
  },
  "language_info": {
   "codemirror_mode": {
    "name": "ipython",
    "version": 3
   },
   "file_extension": ".py",
   "mimetype": "text/x-python",
   "name": "python",
   "nbconvert_exporter": "python",
   "pygments_lexer": "ipython3",
   "version": "3.11.5"
  },
  "orig_nbformat": 4
 },
 "nbformat": 4,
 "nbformat_minor": 2
}
