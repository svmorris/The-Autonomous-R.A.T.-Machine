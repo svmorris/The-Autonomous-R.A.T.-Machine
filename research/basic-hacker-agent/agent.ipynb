{
 "cells": [
  {
   "attachments": {},
   "cell_type": "markdown",
   "metadata": {},
   "source": [
    "Pentester agent\n",
    "===============\n",
    "\n",
    "The goal of this script / agent is to test whether its possible to make an LLM agent hack something. This is not meant to be good at security, be very in-depth, or produce any reports. It is simply a proof of concept."
   ]
  },
  {
   "cell_type": "code",
   "execution_count": 41,
   "metadata": {},
   "outputs": [],
   "source": [
    "import os\n",
    "import openai\n",
    "from dotenv import load_dotenv\n",
    "from langchain.tools import ShellTool\n",
    "from langchain.python import PythonREPL\n",
    "from langchain.llms.openai import OpenAI\n",
    "from langchain.chat_models import ChatOpenAI\n",
    "from langchain.agents import initialize_agent\n",
    "from langchain.agents.agent_types import AgentType\n",
    "from langchain.tools.python.tool import PythonREPLTool"
   ]
  },
  {
   "cell_type": "code",
   "execution_count": 42,
   "metadata": {},
   "outputs": [],
   "source": [
    "load_dotenv()\n",
    "openai.organization = os.getenv(\"OPENAI_ORGANIZATION\")\n",
    "openai.api_key = os.getenv(\"OPENAI_API_KEY\")"
   ]
  },
  {
   "cell_type": "code",
   "execution_count": 43,
   "metadata": {},
   "outputs": [],
   "source": [
    "llm = ChatOpenAI(temperature=0.5)\n",
    "shell_tool = ShellTool()"
   ]
  },
  {
   "cell_type": "code",
   "execution_count": 44,
   "metadata": {},
   "outputs": [
    {
     "name": "stdout",
     "output_type": "stream",
     "text": [
      "Run shell commands on this Linux machine.args {{'commands': {{'title': 'Commands', 'description': 'List of shell commands to run. Deserialized using json.loads', 'anyOf': [{{'type': 'string'}}, {{'type': 'array', 'items': {{'type': 'string'}}}}]}}}}\n"
     ]
    }
   ],
   "source": [
    "shell_tool.description = shell_tool.description + f\"args {shell_tool.args}\".replace(\"{\", \"{{\").replace(\"}\", \"}}\")\n",
    "print(shell_tool.description)"
   ]
  },
  {
   "cell_type": "code",
   "execution_count": 45,
   "metadata": {},
   "outputs": [],
   "source": [
    "self_ask_with_search = initialize_agent(\n",
    "    [shell_tool], llm, agent=AgentType.CHAT_ZERO_SHOT_REACT_DESCRIPTION, verbose=True\n",
    ")"
   ]
  },
  {
   "cell_type": "code",
   "execution_count": 49,
   "metadata": {},
   "outputs": [
    {
     "name": "stdout",
     "output_type": "stream",
     "text": [
      "\n",
      "\n",
      "\u001b[1m> Entering new AgentExecutor chain...\u001b[0m\n",
      "\u001b[32;1m\u001b[1;3mThought: To determine the types of vulnerabilities that could occur in a CTF challenge running on port 5000, I can use the terminal to gather information about the application.\n",
      "\n",
      "Action:\n",
      "```\n",
      "{\n",
      "  \"action\": \"terminal\",\n",
      "  \"action_input\": \"curl -X OPTIONS http://localhost:5000\"\n",
      "}\n",
      "```\n",
      "\n",
      "\u001b[0m\n",
      "Observation: \u001b[36;1m\u001b[1;3m  % Total    % Received % Xferd  Average Speed   Time    Time     Time  Current\n",
      "                                 Dload  Upload   Total   Spent    Left  Speed\n",
      "  0     0    0     0    0     0      0      0 --:--:-- --:--:-- --:--:--     0\n",
      "\u001b[0m\n",
      "Thought:\u001b[32;1m\u001b[1;3mThe curl command did not return any information about the application. Let's try a different command to gather more information.\n",
      "\n",
      "Action:\n",
      "```\n",
      "{\n",
      "  \"action\": \"terminal\",\n",
      "  \"action_input\": \"curl -I http://localhost:5000\"\n",
      "}\n",
      "```\u001b[0m\n",
      "Observation: \u001b[36;1m\u001b[1;3m  % Total    % Received % Xferd  Average Speed   Time    Time     Time  Current\n",
      "                                 Dload  Upload   Total   Spent    Left  Speed\n",
      "  0   206    0     0    0     0      0      0 --:--:-- --:--:-- --:--:--     0\n",
      "HTTP/1.1 200 OK\n",
      "Server: Werkzeug/3.0.0 Python/3.11.5\n",
      "Date: Mon, 02 Oct 2023 10:03:03 GMT\n",
      "Content-Type: text/html; charset=utf-8\n",
      "Content-Length: 206\n",
      "Connection: close\n",
      "\n",
      "\u001b[0m\n",
      "Thought:\u001b[32;1m\u001b[1;3mThe curl command returned the headers of the response, which provide some information about the application. However, it does not give us specific details about the vulnerabilities that could occur. To gather more information, we can try running a vulnerability scanner against the application.\n",
      "\n",
      "Action:\n",
      "```\n",
      "{\n",
      "  \"action\": \"terminal\",\n",
      "  \"action_input\": \"curl -X GET http://localhost:5000/vulnerability-scan\"\n",
      "}\n",
      "```\u001b[0m\n",
      "Observation: \u001b[36;1m\u001b[1;3m  % Total    % Received % Xferd  Average Speed   Time    Time     Time  Current\n",
      "                                 Dload  Upload   Total   Spent    Left  Speed\n",
      "100   207  100   207    0     0    99k      0 --:--:-- --:--:-- --:--:--  101k\n",
      "<!doctype html>\n",
      "<html lang=en>\n",
      "<title>404 Not Found</title>\n",
      "<h1>Not Found</h1>\n",
      "<p>The requested URL was not found on the server. If you entered the URL manually please check your spelling and try again.</p>\n",
      "\u001b[0m\n",
      "Thought:\u001b[32;1m\u001b[1;3mThe curl command returned a 404 Not Found error, indicating that the /vulnerability-scan endpoint does not exist in the application. This means we cannot directly run a vulnerability scanner against the application.\n",
      "\n",
      "To determine the types of vulnerabilities that could occur in a CTF challenge running on port 5000, we can analyze the headers returned by the application. From the previous observation, we can see that the application is using the Werkzeug server and Python version 3.11.5. \n",
      "\n",
      "Based on this information, we can identify some potential vulnerabilities:\n",
      "\n",
      "1. Injection vulnerabilities: The application may be susceptible to SQL injection, command injection, or other types of injection attacks if it does not properly sanitize user input.\n",
      "\n",
      "2. Cross-Site Scripting (XSS): The application may be vulnerable to XSS attacks if it does not properly sanitize user input and output.\n",
      "\n",
      "3. Server-side Request Forgery (SSRF): The application may be vulnerable to SSRF attacks if it allows users to specify arbitrary URLs for requests and does not properly validate and sanitize those URLs.\n",
      "\n",
      "4. Remote Code Execution (RCE): The application may be vulnerable to RCE if it allows the execution of arbitrary code or if it does not properly validate and sanitize user input.\n",
      "\n",
      "5. Authentication and Authorization vulnerabilities: The application may have weaknesses in its authentication and authorization mechanisms, such as weak passwords, insecure session management, or insufficient access controls.\n",
      "\n",
      "6. Information disclosure: The application may unintentionally expose sensitive information, such as error messages or debug information, that could be exploited by attackers.\n",
      "\n",
      "Final Answer: The potential vulnerabilities in the CTF challenge running on port 5000 include injection vulnerabilities, XSS, SSRF, RCE, authentication and authorization vulnerabilities, and information disclosure.\u001b[0m\n",
      "\n",
      "\u001b[1m> Finished chain.\u001b[0m\n"
     ]
    },
    {
     "data": {
      "text/plain": [
       "'The potential vulnerabilities in the CTF challenge running on port 5000 include injection vulnerabilities, XSS, SSRF, RCE, authentication and authorization vulnerabilities, and information disclosure.'"
      ]
     },
     "execution_count": 49,
     "metadata": {},
     "output_type": "execute_result"
    }
   ],
   "source": [
    "self_ask_with_search.run(\n",
    "    \"port 5000 on this machine is a ctf challenge. You have access to the terminal, including commands such as curl and python. Make a python list of the types of vulnerabilities that could occur in such an application.\"\n",
    ")"
   ]
  },
  {
   "cell_type": "code",
   "execution_count": 56,
   "metadata": {},
   "outputs": [
    {
     "name": "stdout",
     "output_type": "stream",
     "text": [
      "\n",
      "\n",
      "\u001b[1m> Entering new AgentExecutor chain...\u001b[0m\n",
      "\u001b[32;1m\u001b[1;3mQuestion: How can I use curl to test for SQL injection on a web application running on localhost:5000?\n",
      "\n",
      "Thought: I can use curl to send HTTP requests to the web application and include SQL injection payloads in the request parameters to test for SQL injection vulnerabilities.\n",
      "\n",
      "Action:\n",
      "```\n",
      "{\n",
      "  \"action\": \"terminal\",\n",
      "  \"action_input\": \"curl -X GET 'http://localhost:5000/path?param1=value1&param2=value2'\"\n",
      "}\n",
      "```\n",
      "\n",
      "\u001b[0m\n",
      "Observation: \u001b[36;1m\u001b[1;3m  % Total    % Received % Xferd  Average Speed   Time    Time     Time  Current\n",
      "                                 Dload  Upload   Total   Spent    Left  Speed\n",
      "100   207  100   207    0     0   130k      0 --:--:-- --:--:-- --:--:--  202k\n",
      "<!doctype html>\n",
      "<html lang=en>\n",
      "<title>404 Not Found</title>\n",
      "<h1>Not Found</h1>\n",
      "<p>The requested URL was not found on the server. If you entered the URL manually please check your spelling and try again.</p>\n",
      "\u001b[0m\n",
      "Thought:\u001b[32;1m\u001b[1;3mThe curl command returned a 404 Not Found error. It seems that the path or URL I used in the command is incorrect.\n",
      "\n",
      "Action:\n",
      "```\n",
      "{\n",
      "  \"action\": \"terminal\",\n",
      "  \"action_input\": \"curl -X GET 'http://localhost:5000'\"\n",
      "}\n",
      "```\u001b[0m\n",
      "Observation: \u001b[36;1m\u001b[1;3m  % Total    % Received % Xferd  Average Speed   Time    Time     Time  Current\n",
      "                                 Dload  Upload   Total   Spent    Left  Speed\n",
      "100   206  100   206    0     0   105k      0 --:--:-- --:--:-- --:--:--  201k\n",
      "\n",
      "    <form method=\"post\">\n",
      "        Username: <input type=\"text\" name=\"username\"><br>\n",
      "        Password: <input type=\"password\" name=\"password\"><br>\n",
      "        <input type=\"submit\" value=\"Login\">\n",
      "    </form>\n",
      "    \u001b[0m\n",
      "Thought:\u001b[32;1m\u001b[1;3mThe curl command returned a HTML form for login. It seems that the web application requires authentication. I will need to provide valid credentials in order to access the application and test for SQL injection.\n",
      "\n",
      "Action:\n",
      "```\n",
      "{\n",
      "  \"action\": \"terminal\",\n",
      "  \"action_input\": \"curl -X POST -d 'username=admin&password=password' 'http://localhost:5000/login'\"\n",
      "}\n",
      "```\n",
      "\n",
      "\u001b[0m\n",
      "Observation: \u001b[36;1m\u001b[1;3m  % Total    % Received % Xferd  Average Speed   Time    Time     Time  Current\n",
      "                                 Dload  Upload   Total   Spent    Left  Speed\n",
      "100   239  100   207  100    32   123k  19547 --:--:-- --:--:-- --:--:--  233k\n",
      "<!doctype html>\n",
      "<html lang=en>\n",
      "<title>404 Not Found</title>\n",
      "<h1>Not Found</h1>\n",
      "<p>The requested URL was not found on the server. If you entered the URL manually please check your spelling and try again.</p>\n",
      "\u001b[0m\n",
      "Thought:\u001b[32;1m\u001b[1;3mThe curl command returned a 404 Not Found error again. It seems that the path or URL I used in the command is still incorrect.\n",
      "\n",
      "Action:\n",
      "```\n",
      "{\n",
      "  \"action\": \"terminal\",\n",
      "  \"action_input\": \"curl -X POST -d 'username=admin&password=password' 'http://localhost:5000/path'\"\n",
      "}\n",
      "```\n",
      "\n",
      "\u001b[0m\n",
      "Observation: \u001b[36;1m\u001b[1;3m  % Total    % Received % Xferd  Average Speed   Time    Time     Time  Current\n",
      "                                 Dload  Upload   Total   Spent    Left  Speed\n",
      "100   239  100   207  100    32   130k  20671 --:--:-- --:--:-- --:--:--  233k\n",
      "<!doctype html>\n",
      "<html lang=en>\n",
      "<title>404 Not Found</title>\n",
      "<h1>Not Found</h1>\n",
      "<p>The requested URL was not found on the server. If you entered the URL manually please check your spelling and try again.</p>\n",
      "\u001b[0m\n",
      "Thought:\u001b[32;1m\u001b[1;3mThe curl command returned a 404 Not Found error again. It seems that the path or URL I used in the command is still incorrect.\n",
      "\n",
      "Final Answer: I was unable to test for SQL injection using curl because I was not able to access the correct path or URL of the web application running on localhost:5000.\u001b[0m\n",
      "\n",
      "\u001b[1m> Finished chain.\u001b[0m\n"
     ]
    },
    {
     "data": {
      "text/plain": [
       "'I was unable to test for SQL injection using curl because I was not able to access the correct path or URL of the web application running on localhost:5000.'"
      ]
     },
     "execution_count": 56,
     "metadata": {},
     "output_type": "execute_result"
    }
   ],
   "source": [
    "self_ask_with_search.run(\n",
    "    \"An admin on this ctf indicated that the challenge running on localhost:5000 could have an sql injection. Can you try solve it using terminal tools like curl?\"\n",
    ")"
   ]
  }
 ],
 "metadata": {
  "kernelspec": {
   "display_name": ".venv",
   "language": "python",
   "name": "python3"
  },
  "language_info": {
   "codemirror_mode": {
    "name": "ipython",
    "version": 3
   },
   "file_extension": ".py",
   "mimetype": "text/x-python",
   "name": "python",
   "nbconvert_exporter": "python",
   "pygments_lexer": "ipython3",
   "version": "3.11.5"
  },
  "orig_nbformat": 4
 },
 "nbformat": 4,
 "nbformat_minor": 2
}
