{
 "cells": [
  {
   "attachments": {},
   "cell_type": "markdown",
   "metadata": {},
   "source": [
    "Hacker.ipynb\n",
    "============\n",
    "\n",
    "This notebook attempts to use my langchain alternatives to hack a target device. The goal of the notebook is to either show the agent working, or to shine a light on what aspects need to be improved. The notebook should be continuously updated to use the latest improvemenets in the agent.\n"
   ]
  },
  {
   "cell_type": "code",
   "execution_count": 1,
   "metadata": {},
   "outputs": [],
   "source": [
    "import os\n",
    "import sys\n",
    "import time\n",
    "import openai\n",
    "\n",
    "from dotenv import load_dotenv\n",
    "\n",
    "from agent import Agent\n",
    "from tasker import TaskManager\n",
    "from entityDB import EntityDatabase\n",
    "from shelltool import ExecutionSandbox\n",
    "\n",
    "load_dotenv()\n",
    "openai.organization = os.getenv(\"OPENAI_ORGANIZATION\")\n",
    "openai.api_key = os.getenv(\"OPENAI_API_KEY\")"
   ]
  },
  {
   "cell_type": "code",
   "execution_count": 2,
   "metadata": {},
   "outputs": [
    {
     "name": "stderr",
     "output_type": "stream",
     "text": [
      "Error: no container with name or ID \"rat-machine-sandbox\" found: no such container\n",
      "Error: no container with ID or name \"rat-machine-sandbox\" found: no such container\n"
     ]
    }
   ],
   "source": [
    "# Just ensure that things are properly killed\n",
    "os.system(\"podman kill rat-machine-sandbox\")\n",
    "os.system(\"podman rm rat-machine-sandbox\")\n",
    "time.sleep(1)"
   ]
  },
  {
   "cell_type": "code",
   "execution_count": 3,
   "metadata": {},
   "outputs": [],
   "source": [
    "task_manager = TaskManager(openai)\n",
    "database = EntityDatabase(openai, \"gpt-3.5-turbo\")\n",
    "agent = Agent(tools=[ExecutionSandbox()], verbose=False)"
   ]
  },
  {
   "cell_type": "code",
   "execution_count": 4,
   "metadata": {},
   "outputs": [
    {
     "name": "stdout",
     "output_type": "stream",
     "text": [
      "--------------context---------------\n",
      "\n",
      "------------------------------------\n",
      "--------------context---------------\n",
      "Context: \n",
      "Task: Use `ip a` to find me your ip address and the local IP range.\n",
      "------------------------------------\n",
      "--------------output----------------\n",
      "The local IP address for the machine is 192.168.1.179 and the local IP range is 192.168.1.0 to 192.168.1.255. Additionally, for the virtual bridge interface `virbr0`, the IP address is `192.168.122.1` with the range from `192.168.122.0` to `192.168.122.255`.\n",
      "------------------------------------\n",
      "\n",
      "\n",
      "--------------context---------------\n",
      "192.168.1.179: The machine has a local IP address of 192.168.1.179 and is part of the local IP range 192.168.1.0 to 192.168.1.255.\n",
      "------------------------------------\n",
      "--------------context---------------\n",
      "Context: 192.168.1.179 is within the local IP range of 192.168.1.0 to 192.168.1.255.\n",
      "Task: Find all connected on the above mentioned range\n",
      "------------------------------------\n",
      "--------------output----------------\n",
      "The connected hosts within the range 192.168.1.0 to 192.168.1.255 are: 192.168.1.1, 192.168.1.114, 192.168.1.146, 192.168.1.179 (host.containers.internal), and 192.168.1.194.\n",
      "------------------------------------\n",
      "\n",
      "\n"
     ]
    }
   ],
   "source": [
    "while True:\n",
    "    task = task_manager.get_next()\n",
    "\n",
    "    # ran out of tasks\n",
    "    if task == \"\":\n",
    "        break\n",
    "        \n",
    "    \n",
    "    print(\"--------------context---------------\")\n",
    "    print(database.database)\n",
    "    print(\"------------------------------------\")\n",
    "        \n",
    "    context = \"\"\n",
    "    if database.database != \"\":\n",
    "        context = database.get_context(task)\n",
    "\n",
    "\n",
    "    print(\"--------------context---------------\")\n",
    "    print(f\"Context: {context}\")\n",
    "    print(f\"Task: {task}\")\n",
    "    print(\"------------------------------------\")\n",
    "\n",
    "    \n",
    "    output = agent.run(task, context=context)\n",
    "    database.update(output)\n",
    "    task_manager.mark_next_completed()\n",
    "\n",
    "    print(\"--------------output----------------\")\n",
    "    print(output)\n",
    "    print(\"------------------------------------\\n\\n\")"
   ]
  }
 ],
 "metadata": {
  "kernelspec": {
   "display_name": ".venv",
   "language": "python",
   "name": "python3"
  },
  "language_info": {
   "codemirror_mode": {
    "name": "ipython",
    "version": 3
   },
   "file_extension": ".py",
   "mimetype": "text/x-python",
   "name": "python",
   "nbconvert_exporter": "python",
   "pygments_lexer": "ipython3",
   "version": "3.11.6"
  },
  "orig_nbformat": 4
 },
 "nbformat": 4,
 "nbformat_minor": 2
}
