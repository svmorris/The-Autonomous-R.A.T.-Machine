{
 "cells": [
  {
   "attachments": {},
   "cell_type": "markdown",
   "metadata": {},
   "source": [
    "Hacker.ipynb\n",
    "============\n",
    "\n",
    "This notebook attempts to use my langchain alternatives to hack a target device. The goal of the notebook is to either show the agent working, or to shine a light on what aspects need to be improved. The notebook should be continuously updated to use the latest improvemenets in the agent.\n"
   ]
  },
  {
   "cell_type": "code",
   "execution_count": 1,
   "metadata": {},
   "outputs": [],
   "source": [
    "import os\n",
    "import sys\n",
    "import time\n",
    "import openai\n",
    "\n",
    "from dotenv import load_dotenv\n",
    "\n",
    "from agent import Agent\n",
    "from tasker import TaskManager\n",
    "from entityDB import EntityDatabase\n",
    "from shelltool import ExecutionSandbox\n",
    "\n",
    "load_dotenv()\n",
    "openai.organization = os.getenv(\"OPENAI_ORGANIZATION\")\n",
    "openai.api_key = os.getenv(\"OPENAI_API_KEY\")"
   ]
  },
  {
   "cell_type": "code",
   "execution_count": 2,
   "metadata": {},
   "outputs": [
    {
     "name": "stderr",
     "output_type": "stream",
     "text": [
      "Error: no container with name or ID \"rat-machine-sandbox\" found: no such container\n",
      "Error: no container with ID or name \"rat-machine-sandbox\" found: no such container\n"
     ]
    }
   ],
   "source": [
    "# Just ensure that things are properly killed\n",
    "os.system(\"podman kill rat-machine-sandbox\")\n",
    "os.system(\"podman rm rat-machine-sandbox\")\n",
    "time.sleep(1)"
   ]
  },
  {
   "cell_type": "code",
   "execution_count": 3,
   "metadata": {},
   "outputs": [],
   "source": [
    "task_manager = TaskManager(openai)\n",
    "database = EntityDatabase(openai, \"gpt-3.5-turbo\")\n",
    "agent = Agent(tools=[ExecutionSandbox()], verbose=False)"
   ]
  },
  {
   "cell_type": "code",
   "execution_count": 4,
   "metadata": {},
   "outputs": [
    {
     "name": "stdout",
     "output_type": "stream",
     "text": [
      "--------------context---------------\n",
      "\n",
      "------------------------------------\n",
      "--------------context---------------\n",
      "Context: \n",
      "Task: Find your current local IP address for ethernet\n",
      "------------------------------------\n",
      "--------------output----------------\n",
      "The current local IP address for ethernet is 192.168.1.179.\n",
      "------------------------------------\n",
      "\n",
      "\n",
      "--------------context---------------\n",
      "192.168.1.179: The machine with the local IP 192.168.1.179 is the current local IP address for ethernet.\n",
      "------------------------------------\n",
      "--------------context---------------\n",
      "Context: 192.168.1.179\n",
      "Task: Find the IP range of the current network\n",
      "------------------------------------\n",
      "--------------output----------------\n",
      "The IP range of the current network is from 192.168.1.0 to 192.168.1.255.\n",
      "------------------------------------\n",
      "\n",
      "\n",
      "--------------context---------------\n",
      "192.168.1.0 - 192.168.1.255: The IP range of the current network is from 192.168.1.0 to 192.168.1.255.\n",
      "------------------------------------\n",
      "--------------context---------------\n",
      "Context: 192.168.1.0 - 192.168.1.255: The IP range of the current network is from 192.168.1.0 to 192.168.1.255.\n",
      "Task: Find all devices connected to the network\n",
      "------------------------------------\n",
      "--------------output----------------\n",
      "I wasn't able to complete the task of finding all devices on the network due to an issue with a network interface called 'enp5s0'. It should be investigated further by a network or system administrator.\n",
      "------------------------------------\n",
      "\n",
      "\n"
     ]
    },
    {
     "name": "stderr",
     "output_type": "stream",
     "text": [
      "Exception in thread Thread-4 (_container_thread):\n",
      "Traceback (most recent call last):\n",
      "  File \"/home/antone/Music/The-Autonomous-R.A.T.-Machine/research/reinvent-the-wheel/shelltool.py\", line 106, in _container_thread\n",
      "    subprocess.run(\n",
      "  File \"/usr/lib/python3.11/subprocess.py\", line 571, in run\n",
      "    raise CalledProcessError(retcode, process.args,\n",
      "subprocess.CalledProcessError: Command '['podman', 'run', '--cap-add=NET_RAW', '--network', 'host', '--name', 'rat-machine-sandbox', '--rm', 'rat-machine-image']' returned non-zero exit status 137.\n",
      "\n",
      "During handling of the above exception, another exception occurred:\n",
      "\n",
      "Traceback (most recent call last):\n",
      "  File \"/usr/lib/python3.11/threading.py\", line 1038, in _bootstrap_inner\n",
      "    self.run()\n",
      "  File \"/usr/lib/python3.11/threading.py\", line 975, in run\n",
      "    self._target(*self._args, **self._kwargs)\n",
      "  File \"/home/antone/Music/The-Autonomous-R.A.T.-Machine/research/reinvent-the-wheel/shelltool.py\", line 125, in _container_thread\n",
      "    assert False, \"Execution sandbox failed to run\"\n",
      "AssertionError: Execution sandbox failed to run\n"
     ]
    },
    {
     "name": "stdout",
     "output_type": "stream",
     "text": [
      "Container exited with error Command '['podman', 'run', '--cap-add=NET_RAW', '--network', 'host', '--name', 'rat-machine-sandbox', '--rm', 'rat-machine-image']' returned non-zero exit status 137.\n"
     ]
    }
   ],
   "source": [
    "while True:\n",
    "    task = task_manager.get_next()\n",
    "\n",
    "    # ran out of tasks\n",
    "    if task == \"\":\n",
    "        break\n",
    "        \n",
    "    \n",
    "    print(\"--------------context---------------\")\n",
    "    print(database.database)\n",
    "    print(\"------------------------------------\")\n",
    "        \n",
    "    context = \"\"\n",
    "    if database.database != \"\":\n",
    "        context = database.get_context(task)\n",
    "\n",
    "\n",
    "    print(\"--------------context---------------\")\n",
    "    print(f\"Context: {context}\")\n",
    "    print(f\"Task: {task}\")\n",
    "    print(\"------------------------------------\")\n",
    "\n",
    "    \n",
    "    output = agent.run(task, context=context)\n",
    "    database.update(output)\n",
    "    task_manager.mark_next_completed()\n",
    "\n",
    "    print(\"--------------output----------------\")\n",
    "    print(output)\n",
    "    print(\"------------------------------------\\n\\n\")"
   ]
  }
 ],
 "metadata": {
  "kernelspec": {
   "display_name": ".venv",
   "language": "python",
   "name": "python3"
  },
  "language_info": {
   "codemirror_mode": {
    "name": "ipython",
    "version": 3
   },
   "file_extension": ".py",
   "mimetype": "text/x-python",
   "name": "python",
   "nbconvert_exporter": "python",
   "pygments_lexer": "ipython3",
   "version": "3.11.5"
  },
  "orig_nbformat": 4
 },
 "nbformat": 4,
 "nbformat_minor": 2
}
