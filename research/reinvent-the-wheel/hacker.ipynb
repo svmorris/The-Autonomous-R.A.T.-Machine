{
 "cells": [
  {
   "attachments": {},
   "cell_type": "markdown",
   "metadata": {},
   "source": [
    "Hacker.ipynb\n",
    "============\n",
    "\n",
    "This notebook attempts to use my langchain alternatives to hack a target device. The goal of the notebook is to either show the agent working, or to shine a light on what aspects need to be improved. The notebook should be continuously updated to use the latest improvemenets in the agent.\n"
   ]
  },
  {
   "cell_type": "code",
   "execution_count": 1,
   "metadata": {},
   "outputs": [],
   "source": [
    "import os\n",
    "import sys\n",
    "import time\n",
    "import openai\n",
    "\n",
    "from dotenv import load_dotenv\n",
    "\n",
    "from agent import Agent\n",
    "from tasker import TaskManager\n",
    "from entityDB import EntityDatabase\n",
    "from shelltool import ExecutionSandbox\n",
    "\n",
    "load_dotenv()\n",
    "openai.organization = os.getenv(\"OPENAI_ORGANIZATION\")\n",
    "openai.api_key = os.getenv(\"OPENAI_API_KEY\")"
   ]
  },
  {
   "cell_type": "code",
   "execution_count": 2,
   "metadata": {},
   "outputs": [
    {
     "name": "stdout",
     "output_type": "stream",
     "text": [
      "rat-machine-sandbox\n",
      "rat-machine-sandbox\n"
     ]
    }
   ],
   "source": [
    "# Just ensure that things are properly killed\n",
    "os.system(\"podman kill rat-machine-sandbox\")\n",
    "os.system(\"podman rm rat-machine-sandbox\")\n",
    "time.sleep(1)"
   ]
  },
  {
   "cell_type": "code",
   "execution_count": 3,
   "metadata": {},
   "outputs": [],
   "source": [
    "task_manager = TaskManager(openai)\n",
    "database = EntityDatabase(openai, \"gpt-3.5-turbo\")\n",
    "agent = Agent(tools=[ExecutionSandbox()], verbose=False)"
   ]
  },
  {
   "cell_type": "code",
   "execution_count": 4,
   "metadata": {},
   "outputs": [
    {
     "name": "stdout",
     "output_type": "stream",
     "text": [
      "task:  Find your current local IP address for ethernet\n",
      "Starting sandbox\n"
     ]
    },
    {
     "ename": "KeyboardInterrupt",
     "evalue": "",
     "output_type": "error",
     "traceback": [
      "\u001b[0;31m---------------------------------------------------------------------------\u001b[0m",
      "\u001b[0;31mKeyboardInterrupt\u001b[0m                         Traceback (most recent call last)",
      "Cell \u001b[0;32mIn[4], line 9\u001b[0m\n\u001b[1;32m      6\u001b[0m \u001b[39mif\u001b[39;00m task \u001b[39m==\u001b[39m \u001b[39m\"\u001b[39m\u001b[39m\"\u001b[39m:\n\u001b[1;32m      7\u001b[0m     \u001b[39mbreak\u001b[39;00m\n\u001b[0;32m----> 9\u001b[0m output \u001b[39m=\u001b[39m agent\u001b[39m.\u001b[39;49mrun(task)\n\u001b[1;32m     10\u001b[0m \u001b[39mprint\u001b[39m(output)\n\u001b[1;32m     11\u001b[0m \u001b[39mbreak\u001b[39;00m\n",
      "File \u001b[0;32m~/Music/The-Autonomous-R.A.T.-Machine/research/reinvent-the-wheel/agent.py:318\u001b[0m, in \u001b[0;36mAgent.run\u001b[0;34m(self, task, return_full)\u001b[0m\n\u001b[1;32m    316\u001b[0m \u001b[39mfor\u001b[39;00m tool \u001b[39min\u001b[39;00m \u001b[39mself\u001b[39m\u001b[39m.\u001b[39mtools:\n\u001b[1;32m    317\u001b[0m     \u001b[39mif\u001b[39;00m tool\u001b[39m.\u001b[39mname \u001b[39m==\u001b[39m scratchpad\u001b[39m.\u001b[39mget_action():\n\u001b[0;32m--> 318\u001b[0m         observation \u001b[39m=\u001b[39m tool\u001b[39m.\u001b[39;49mrun(scratchpad\u001b[39m.\u001b[39;49mget_action_input())\n\u001b[1;32m    320\u001b[0m scratchpad\u001b[39m.\u001b[39madd_observation(observation)\n\u001b[1;32m    321\u001b[0m scratchpad\u001b[39m.\u001b[39mstate \u001b[39m=\u001b[39m \u001b[39mNone\u001b[39;00m\n",
      "File \u001b[0;32m~/Music/The-Autonomous-R.A.T.-Machine/research/reinvent-the-wheel/shelltool.py:185\u001b[0m, in \u001b[0;36mExecutionSandbox.run\u001b[0;34m(self, command)\u001b[0m\n\u001b[1;32m    183\u001b[0m \u001b[39mif\u001b[39;00m \u001b[39mself\u001b[39m\u001b[39m.\u001b[39mcontainer_thread \u001b[39m==\u001b[39m \u001b[39mNone\u001b[39;00m:\n\u001b[1;32m    184\u001b[0m     \u001b[39mprint\u001b[39m(\u001b[39m\"\u001b[39m\u001b[39mStarting sandbox\u001b[39m\u001b[39m\"\u001b[39m)\n\u001b[0;32m--> 185\u001b[0m     \u001b[39mself\u001b[39;49m\u001b[39m.\u001b[39;49mstart_sandbox()\n\u001b[1;32m    187\u001b[0m \u001b[39m# Fix some common command issues\u001b[39;00m\n\u001b[1;32m    188\u001b[0m command \u001b[39m=\u001b[39m \u001b[39mself\u001b[39m\u001b[39m.\u001b[39m_command_filter(command)\n",
      "File \u001b[0;32m~/Music/The-Autonomous-R.A.T.-Machine/research/reinvent-the-wheel/shelltool.py:131\u001b[0m, in \u001b[0;36mExecutionSandbox.start_sandbox\u001b[0;34m(self)\u001b[0m\n\u001b[1;32m    129\u001b[0m \u001b[39mself\u001b[39m\u001b[39m.\u001b[39mcontainer_thread\u001b[39m.\u001b[39mstart()\n\u001b[1;32m    130\u001b[0m \u001b[39m# Make sure the sandbox has time to start before executing commands\u001b[39;00m\n\u001b[0;32m--> 131\u001b[0m time\u001b[39m.\u001b[39;49msleep(\u001b[39m2\u001b[39;49m)\n",
      "\u001b[0;31mKeyboardInterrupt\u001b[0m: "
     ]
    }
   ],
   "source": [
    "while True:\n",
    "    task = task_manager.get_next()\n",
    "    print(\"task: \", task)\n",
    "\n",
    "    # ran out of tasks\n",
    "    if task == \"\":\n",
    "        break\n",
    "        \n",
    "    output = agent.run(task)\n",
    "    print(output)\n",
    "    break"
   ]
  }
 ],
 "metadata": {
  "kernelspec": {
   "display_name": ".venv",
   "language": "python",
   "name": "python3"
  },
  "language_info": {
   "codemirror_mode": {
    "name": "ipython",
    "version": 3
   },
   "file_extension": ".py",
   "mimetype": "text/x-python",
   "name": "python",
   "nbconvert_exporter": "python",
   "pygments_lexer": "ipython3",
   "version": "3.11.5"
  },
  "orig_nbformat": 4
 },
 "nbformat": 4,
 "nbformat_minor": 2
}
