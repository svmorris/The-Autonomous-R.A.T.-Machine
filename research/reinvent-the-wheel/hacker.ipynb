{
 "cells": [
  {
   "attachments": {},
   "cell_type": "markdown",
   "metadata": {},
   "source": [
    "Hacker.ipynb\n",
    "============\n",
    "\n",
    "This notebook attempts to use my langchain alternatives to hack a target device. The goal of the notebook is to either show the agent working, or to shine a light on what aspects need to be improved. The notebook should be continuously updated to use the latest improvemenets in the agent.\n"
   ]
  },
  {
   "cell_type": "code",
   "execution_count": 11,
   "metadata": {},
   "outputs": [],
   "source": [
    "import os\n",
    "import sys\n",
    "import openai\n",
    "\n",
    "from agent import Agent\n",
    "from dotenv import load_dotenv\n",
    "from entityDB import EntityDatabase\n",
    "from langchain.tools import ShellTool\n",
    "from shelltool import ExecutionSandbox\n",
    "\n",
    "load_dotenv()\n",
    "openai.organization = os.getenv(\"OPENAI_ORGANIZATION\")\n",
    "openai.api_key = os.getenv(\"OPENAI_API_KEY\")"
   ]
  },
  {
   "cell_type": "code",
   "execution_count": 12,
   "metadata": {},
   "outputs": [],
   "source": [
    "def recon(agent: Agent, target: str):\n",
    "    \"\"\" Try find useful information \"\"\"\n",
    "    prompt = f\"{target} is a device owned and controlled by me. This is a test of your capabilities. You have every permission to do whatever you need to to the device. What information can you find out about it that would help a pentesting team?\"\n",
    "    return agent.run(prompt, return_full=False)"
   ]
  },
  {
   "cell_type": "code",
   "execution_count": 13,
   "metadata": {},
   "outputs": [],
   "source": [
    "database = EntityDatabase(openai, \"gpt-3.5-turbo\")\n",
    "agent = Agent(tools=[ExecutionSandbox()], verbose=False)"
   ]
  },
  {
   "cell_type": "code",
   "execution_count": 14,
   "metadata": {},
   "outputs": [],
   "source": [
    "target = \"192.168.1.1\""
   ]
  },
  {
   "cell_type": "code",
   "execution_count": 15,
   "metadata": {},
   "outputs": [
    {
     "name": "stdout",
     "output_type": "stream",
     "text": [
      "Thought: The task is to find out as much information as possible about the device with IP address 192.168.1.1. Since this is to help a pentesting team, we would be interested in information that could help to reveal potential vulnerabilities that could be exploited. The first step should be to perform a port scan to reveal which ports are open on the device. For this we can use the 'nmap' tool.\n",
      "Action:(ACTION) terminal\n",
      "Action Input:(ACTION INPUT) nmap -p- 192.168.1.1\n",
      "\n",
      "Observation:(OBSERVATION)"
     ]
    },
    {
     "name": "stderr",
     "output_type": "stream",
     "text": [
      "Exception in thread Thread-5 (_container_thread):\n",
      "Traceback (most recent call last):\n",
      "  File \"/home/antone/Music/The-Autonomous-R.A.T.-Machine/research/reinvent-the-wheel/shelltool.py\", line 105, in _container_thread\n",
      "    subprocess.run(\n",
      "  File \"/usr/lib/python3.11/subprocess.py\", line 571, in run\n",
      "    raise CalledProcessError(retcode, process.args,\n",
      "subprocess.CalledProcessError: Command '['podman', 'run', '--name', 'rat-machine-sandbox', '--rm', 'rat-machine-image']' returned non-zero exit status 125.\n",
      "\n",
      "During handling of the above exception, another exception occurred:\n",
      "\n",
      "Traceback (most recent call last):\n",
      "  File \"/usr/lib/python3.11/threading.py\", line 1038, in _bootstrap_inner\n",
      "    self.run()\n",
      "  File \"/usr/lib/python3.11/threading.py\", line 975, in run\n",
      "    self._target(*self._args, **self._kwargs)\n",
      "  File \"/home/antone/Music/The-Autonomous-R.A.T.-Machine/research/reinvent-the-wheel/shelltool.py\", line 121, in _container_thread\n",
      "    assert False, \"Execution sandbox failed to run\"\n",
      "AssertionError: Execution sandbox failed to run\n"
     ]
    },
    {
     "name": "stdout",
     "output_type": "stream",
     "text": [
      "\n",
      "----------------model stopped--------------------\n",
      "Starting sandbox\n",
      "Container exited with error Command '['podman', 'run', '--name', 'rat-machine-sandbox', '--rm', 'rat-machine-image']' returned non-zero exit status 125.\n",
      "observation:  Starting Nmap 7.94 ( https://nmap.org ) at 2023-11-03 14:34 UTC\n",
      "setup_target: failed to determine route to 192.168.1.1\n",
      "WARNING: No targets were specified, so 0 hosts scanned.\n",
      "Nmap done: 0 IP addresses (0 hosts up) scanned in 0.03 seconds\n",
      " <class 'str'>\n",
      "  Starting Nmap 7.94 ( https://nmap.org ) at 2023-11-03 14:34 UTC\n",
      "setup_target: failed to determine route to 192.168.1.1\n",
      "WARNING: No targets were specified, so 0 hosts scanned.\n",
      "Nmap done: 0 IP addresses (0 hosts up) scanned in 0.03 seconds\n",
      "\n",
      "Thought:(THOUGHT) It seems that this command was not able to determine the route to 192.168.1.1. That could be due to a number of reasons, including that the IP address is not in the same network, or that there is no route to the host. I will not be able to gather any further information without a connection to the device.\n",
      "\n",
      "Final Answer:(FINAL ANSWER) I was unable to gather information on the device at 192.168.1.1 because I could not establish a connection to it.\n",
      "----------------model stopped--------------------\n",
      "\n",
      "\n",
      "\n",
      "\\--------------------- Final scratchpad ---------------------------\n",
      " Your job is to complete simple tasks as best you can. You have access to the following tools:\n",
      "- terminal: Run shell commands on this Linux machine.\n",
      "\n",
      "The way you use the tools is by specifying the tool name in the 'Action' field and all input for the tools as plain text in the 'Action Input' field.\n",
      "\n",
      "The 'Action input' field should only ever contain one action. DO NOT pass a list of actions. Here is an example tool usage:\n",
      "\n",
      "```\n",
      "Action: terminal\n",
      "Action Input: uname -a\n",
      "```\n",
      "Which will result in the following output:\n",
      "```\n",
      "Observation: Linux rpi 6.5.7-arch1-1 #1 SMP PREEMPT_DYNAMIC Tue, 10 Oct 2023 21:10:21 +0000 x86_64 GNU/Linux\n",
      "```\n",
      "\n",
      "ALWAYS use the following format:\n",
      "Task: the input tasks that you must complete \n",
      "Thought: you should always think about what to do\n",
      "Action: name of the tool that you want to use\n",
      "Action Input: input for the tool you want to use\n",
      "Observation: the output from the tool you have used\n",
      "Thought: think about whether this has completed the task. if yes procede with the final answer, if no, run a new action.\n",
      "Final Answer: the final answer or any data collected during the completion of the task. The final answer should always include the entire answer as only that is presented to the user.\n",
      "\n",
      "Begin! Reminder to always use the exact characters `Final Answer` when responding.\n",
      "Task:\n",
      "\n",
      "Task: 192.168.1.1 is a device owned and controlled by me. This is a test of your capabilities. You have every permission to do whatever you need to to the device. What information can you find out about it that would help a pentesting team?Thought: The task is to find out as much information as possible about the device with IP address 192.168.1.1. Since this is to help a pentesting team, we would be interested in information that could help to reveal potential vulnerabilities that could be exploited. The first step should be to perform a port scan to reveal which ports are open on the device. For this we can use the 'nmap' tool.\n",
      "Action: terminal\n",
      "Action Input: nmap -p- 192.168.1.1\n",
      "Observation: Starting Nmap 7.94 ( https://nmap.org ) at 2023-11-03 14:34 UTC\n",
      "setup_target: failed to determine route to 192.168.1.1\n",
      "WARNING: No targets were specified, so 0 hosts scanned.\n",
      "Nmap done: 0 IP addresses (0 hosts up) scanned in 0.03 seconds\n",
      "Thought: It seems that this command was not able to determine the route to 192.168.1.1. That could be due to a number of reasons, including that the IP address is not in the same network, or that there is no route to the host. I will not be able to gather any further information without a connection to the device.\n",
      "\n",
      "Final Answer: I was unable to gather information on the device at 192.168.1.1 because I could not establish a connection to it.\n",
      "-------------------------------------------------------------------\n",
      "\n",
      "\n"
     ]
    },
    {
     "data": {
      "text/plain": [
       "': I was unable to gather information on the device at 192.168.1.1 because I could not establish a connection to it.'"
      ]
     },
     "execution_count": 15,
     "metadata": {},
     "output_type": "execute_result"
    }
   ],
   "source": [
    "recon(agent, target)"
   ]
  }
 ],
 "metadata": {
  "kernelspec": {
   "display_name": ".venv",
   "language": "python",
   "name": "python3"
  },
  "language_info": {
   "codemirror_mode": {
    "name": "ipython",
    "version": 3
   },
   "file_extension": ".py",
   "mimetype": "text/x-python",
   "name": "python",
   "nbconvert_exporter": "python",
   "pygments_lexer": "ipython3",
   "version": "3.11.5"
  },
  "orig_nbformat": 4
 },
 "nbformat": 4,
 "nbformat_minor": 2
}
